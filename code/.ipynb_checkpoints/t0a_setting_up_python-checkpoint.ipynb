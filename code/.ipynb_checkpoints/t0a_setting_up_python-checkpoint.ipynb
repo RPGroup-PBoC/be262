{
 "cells": [
  {
   "cell_type": "markdown",
   "metadata": {
    "collapsed": true
   },
   "source": [
    "# Tutorial 0a: Setting Up Python For Scientific Computing"
   ]
  },
  {
   "cell_type": "markdown",
   "metadata": {},
   "source": [
    "© 2017 Griffin Chure. This work is licensed under a [Creative Commons Attribution License CC-BY 4.0](https://creativecommons.org/licenses/by/4.0/). All code contained herein is licensed under an [MIT license](https://opensource.org/licenses/MIT) "
   ]
  },
  {
   "cell_type": "markdown",
   "metadata": {},
   "source": [
    "---"
   ]
  },
  {
   "cell_type": "markdown",
   "metadata": {},
   "source": [
    "In this tutorial, we will set up a scientific Python computing environment using the [Anaconda python distribution by Continuum Analytics](https://www.continuum.io/downloads). "
   ]
  },
  {
   "cell_type": "markdown",
   "metadata": {},
   "source": [
    "##  Why Python?"
   ]
  },
  {
   "cell_type": "markdown",
   "metadata": {},
   "source": [
    "As is true in human language, there are [hundreds of computer programming languages](https://en.wikipedia.org/wiki/List_of_programming_languages). While each has its own merit, the major languages for scientific computing are C, C++, R, MATLAB, Python, Java, and Fortran. [MATLAB](https://www.mathworks.com) and [Python](https://www.python.org) are similar in syntax and typically read as if they were written in plain English. This makes both languages a useful tool for teaching but they are also very powerful languages and are **very** actively used in real-life research. MATLAB is proprietary while Python is open source. A benefit of being open source is that anyone can write and release Python packages. For science, there are many wonderful community-driven packages such as [NumPy](http://www.numpy.org), [SciPy](http://www.scipy.org), [scikit-image](http://scikit-image.org), and [Pandas](http://pandas.pydata.org) just to name a few. "
   ]
  },
  {
   "cell_type": "markdown",
   "metadata": {},
   "source": [
    "##  Installing Python 3.6 with Anaconda"
   ]
  },
  {
   "cell_type": "markdown",
   "metadata": {},
   "source": [
    "### Python 3.6 vs Python 2.7 "
   ]
  },
  {
   "cell_type": "markdown",
   "metadata": {},
   "source": [
    "There are two dominant versions of Python used for scientific computing, Python 2.7 and Python 3.6. We are at an interesting crossroads between these two versions. The most recent release is not backward compatible with previous versions of Python. While there are still some packages written for Python 2.7 that have not been modified for compatibility with Python 3.6, a large number have transitioned. As this will be the future for scientific computing with Python, we will use Python 3.6 for these tutorials."
   ]
  },
  {
   "cell_type": "markdown",
   "metadata": {},
   "source": [
    "### Anaconda"
   ]
  },
  {
   "cell_type": "markdown",
   "metadata": {},
   "source": [
    "There are several scientific Python distributions available for MacOS, Windows, and Linux. The two most popular, [Enthought Canopy](https://www.enthought.com/products/canopy/) and [Anaconda](https://www.continuum.io/why-anaconda) are specifically designed for scientific computing and data science work. For this course, we will use the Anaconda Python 3.6 distribution. To install the correct version, follow the instructions below.\n",
    "\n",
    "1. Navigate to [the Anaconda download page](https://www.anaconda.com/downloads) and download the Python 3.6 graphical installer.\n",
    "\n",
    "2. Launch the installer and follow the onscreen instructions.\n",
    "\n",
    "\n",
    "Congratulations! You now have the beginnings of a scientific Python distribution."
   ]
  },
  {
   "cell_type": "markdown",
   "metadata": {},
   "source": [
    "### Installing GitBash for Windows Users"
   ]
  },
  {
   "cell_type": "markdown",
   "metadata": {},
   "source": [
    "It will be useful to have access to a UNIX command line to launch Jupyter notebooks, make and move directories, as well as to install extra packages for Python through the conda package manager. For those on OSX, we will use the built-in Terminal.app program. For those using Linux, we will assume you know what we are talking about and have some familiarity with the command line. \n",
    "\n",
    "Windows does not come with a UNIX command line interface. To install such an interface, we recommend using GitBash. To install, please navigate to their [download page](https://git-for-windows.github.io) and follow the download instructions. Please set the following settings upon installation.\n",
    "\n",
    "* `Adjusting your PATH environment -> Use Git from Windows Command Prompt.`\n",
    "* `Configuring the line ending conversions -> Checkout Windows-style, commit unix style line endings.`\n",
    "\n",
    "We will not be using the git version control system, so these preferences are less important.\n",
    "\n",
    "Once installed, **you will be able to launch a UNIX compatible terminal interface wherever you are in your operating system by right clicking on the desktop or windows explorer window and selecting \"Run GitBash here\".**\n",
    "\n",
    "Please see the [python syntax tutorial](t0c_python_syntax_and_plotting.html) for a primer on using the UNIX command line. "
   ]
  },
  {
   "cell_type": "markdown",
   "metadata": {},
   "source": [
    "## Installing Atom text editor"
   ]
  },
  {
   "cell_type": "markdown",
   "metadata": {},
   "source": [
    "In this course, all tutorials will be performed using the browser-based [Jupyter notebook](). However, we may need to write a few Python scripts. For these applications, a text editor is more useful. If you have familiarity with a specific text editor (vim, emacs, sublime, VisualCodeStudio, etc), you may use that. For this course, we recommend downloading and configuring the [Atom](https://atom.io) text editor. To install, navigate to their page and follow the instructions below.\n",
    "\n",
    "1. [Navigate to the Atom](https://atom.io) homepage and follow the instructions for installation.\n",
    "\n",
    "2. Once installed, launch Atom and navigate to `Packages -> Settings View -> Open` and scroll to the bottom of the page. Select `Editor` and make sure the setting `Tab Length` is set to 4. Below that, make sure `Tab Type` is set to `soft`. This is important as indentation and white space is interpreted in Python.\n"
   ]
  },
  {
   "cell_type": "markdown",
   "metadata": {},
   "source": [
    "### Setting up the directory structure"
   ]
  },
  {
   "cell_type": "markdown",
   "metadata": {},
   "source": [
    "For this course (and your coding in 'real life'), it will help if you follow a specific directory structure for your code and data. During this course, you will  write a lot of Jupyter Notebooks and Python scripts that will load in data. To make this structure, open Atom and follow the instructions below.\n",
    "\n",
    "1. Navigate to `File -> Add Project Folder` and make a new folder in your home directory. On MacOS and Linux, this will be in `/Users/YOUR_USERNAME/`. On Windows, this will be `C::/Users/YOUR_USERNAME/`.\n",
    "\n",
    "2. Name this project `bootcamp`.\n",
    "\n",
    "3. Now `bootcamp` should appear on the left-hand side of your editor. Right-click on `bootcamp` and make a new folder called `data`. This is where all of our data from the class will live.\n",
    "\n",
    "You could also make this folder structure in your standard operating system manner. Now, if everything went well, your Atom editor window should look like this on the left-hand side. "
   ]
  },
  {
   "cell_type": "markdown",
   "metadata": {},
   "source": [
    "![](../images/setup.png)"
   ]
  },
  {
   "cell_type": "markdown",
   "metadata": {},
   "source": [
    "If you have followed all of these steps successfully, you should have a complete setup for scientific computing in Python!"
   ]
  },
  {
   "cell_type": "markdown",
   "metadata": {},
   "source": [
    "## Your first script and reading these tutorials "
   ]
  },
  {
   "cell_type": "markdown",
   "metadata": {},
   "source": [
    "This tutorial (as all others in this course) are written as [Jupyter Notebooks](http://jupyter.org) which are documents which contain cells for writing text and math as well as cells that contain and execute a block of Python code. These tutorials will serve as a useful reference that not only shows the code and output, but an explanation of the biological and physical principles behind it. For these tutorials, code and its output are rendered in two boxes as is shown below. "
   ]
  },
  {
   "cell_type": "code",
   "execution_count": 6,
   "metadata": {},
   "outputs": [
    {
     "name": "stdout",
     "output_type": "stream",
     "text": [
      "Hello! This is the print function. Python will print this line below\n"
     ]
    }
   ],
   "source": [
    "# This is a comment and is not read by Python\n",
    "print('Hello! This is the print function. Python will print this line below')"
   ]
  },
  {
   "cell_type": "markdown",
   "metadata": {},
   "source": [
    "The box with the gray background contains the Python code while the output is in the box with the white background. When reading these tutorials, you will retype  the code lines into Atom or in the IPython interpreter directly. \n",
    "\n",
    "If you have followed the steps above, we are finally ready to write our first Python script. In your Atom window, create a new file named `my_first_script.py` and save it within your `bootcamp` root directory (not in `data`). You can do this by going to `File -> New File`  then `File -> Save` and navigate to your `bootcamp` folder. Now, in the `my_first_script.py` file, we'll generate a plot of one of my favorite functions. Type (or copy and paste) the following lines into your script file and save it.   \n"
   ]
  },
  {
   "cell_type": "code",
   "execution_count": 7,
   "metadata": {},
   "outputs": [
    {
     "data": {
      "image/png": "[encoded data removed]",
      "text/plain": [
       "<matplotlib.figure.Figure at 0x1111760f0>"
      ]
     },
     "metadata": {},
     "output_type": "display_data"
    }
   ],
   "source": [
    "# Import Python packages necessary for this script\n",
    "import numpy as np\n",
    "import matplotlib.pyplot as plt\n",
    "import seaborn as sns\n",
    "\n",
    "rc={'lines.linewidth': 2, 'axes.labelsize': 14, 'axes.titlesize': 14}\n",
    "sns.set(rc=rc)\n",
    "\n",
    "# Generate a beautiful curve\n",
    "x = np.linspace(0, 2*np.pi, 500)\n",
    "y = np.sin(2 * np.sin(2 * np.sin(2 * x)))\n",
    "plt.plot(x, y)\n",
    "plt.xlabel('$x$')\n",
    "plt.ylabel('$y$')\n",
    "plt.show()"
   ]
  },
  {
   "cell_type": "markdown",
   "metadata": {},
   "source": [
    "Once you have this file saved, open a new IPython interpreter by opening a terminal (Terminal.app on OSX or Gitbash on Windows) and typing `ipython`. You will now be greeted with an IPython prompt in your terminal (`In[1]`) along with some information about your Python version. To run the script you just saved, type the following commands: \n",
    "\n",
    "```\n",
    "In [1]: cd ~/bootcamp\n",
    "In [2]: %matplotlib\n",
    "In [3]: %run my_first_script.py\n",
    "```\n",
    "\n",
    "The first command navigates to the correct directory, assuming you make your structure as described above. The second command allows for us to keep typing while plots are being shown. The third command runs the script we just wrote through the IPython interpreter. The percentage signs (`%`) for `In [2]:` and `In [3]:` are called Python magic fuctions and protect you from overwriting important variables in the default Python name space. While just typing `matplotlib` and `run my_first_script.py` will work, it is better style to use these magic functions.\n",
    "\n",
    "\n",
    "If everything works as expected, you should see the plot below."
   ]
  },
  {
   "cell_type": "code",
   "execution_count": 8,
   "metadata": {},
   "outputs": [
    {
     "data": {
      "text/plain": [
       "<matplotlib.text.Text at 0x110e92eb8>"
      ]
     },
     "execution_count": 8,
     "metadata": {},
     "output_type": "execute_result"
    },
    {
     "data": {
      "image/png": "[encoded data removed]",
      "text/plain": [
       "<matplotlib.figure.Figure at 0x110f89940>"
      ]
     },
     "metadata": {},
     "output_type": "display_data"
    }
   ],
   "source": [
    "# These commands are for showing the plot in this notebook only. These should\n",
    "# NOT be in your python script.\n",
    "%matplotlib inline\n",
    "plt.plot(x, y)\n",
    "plt.xlabel('$x$')\n",
    "plt.ylabel('$y$')"
   ]
  },
  {
   "cell_type": "markdown",
   "metadata": {},
   "source": [
    "Once you generate this plot, you can close out of it by clicking the `x` in the upper left hand corner of the window. To exit out of the IPython interpreter, you can type the following command. \n",
    "\n",
    "\n",
    "`In [4]: exit()`"
   ]
  },
  {
   "cell_type": "markdown",
   "metadata": {},
   "source": [
    "Note that directly above the plot, there is some text that looks like `<matplotlib.text.Text at 0x110ef04a8>`. This is an output from the Matplotlib plotting library and can be ignored in its entirety.  "
   ]
  },
  {
   "cell_type": "markdown",
   "metadata": {},
   "source": [
    "##  What is Jupyter?"
   ]
  },
  {
   "cell_type": "markdown",
   "metadata": {
    "collapsed": true
   },
   "source": [
    "[Jupyter Notebooks](http://jupyter.org) are very useful tools for writing code, text, and math into a single document. In fact, this (and all other tutorials) were written in Jupyter notebooks. A tutorial on their use can be found [here](./t0b_jupyter_notebooks.html). "
   ]
  }
 ],
 "metadata": {
  "anaconda-cloud": {},
  "kernelspec": {
   "display_name": "Python 3",
   "language": "python",
   "name": "python3"
  },
  "language_info": {
   "codemirror_mode": {
    "name": "ipython",
    "version": 3
   },
   "file_extension": ".py",
   "mimetype": "text/x-python",
   "name": "python",
   "nbconvert_exporter": "python",
   "pygments_lexer": "ipython3",
   "version": "3.6.2"
  }
 },
 "nbformat": 4,
 "nbformat_minor": 1
}
