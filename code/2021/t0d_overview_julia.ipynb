{
 "cells": [
  {
   "cell_type": "markdown",
   "id": "6974aaef-b351-41ce-b80c-d54861b0de06",
   "metadata": {},
   "source": [
    "# Tutorial 0d: Introduction to the world of Julia"
   ]
  },
  {
   "cell_type": "markdown",
   "id": "86842349-b97e-4df6-a6d1-68c74077a99a",
   "metadata": {},
   "source": [
    "© 2021 Tom Röschinger. This work is licensed under a [Creative Commons Attribution License CC-BY 4.0](https://creativecommons.org/licenses/by/4.0/). All code contained herein is licensed under an [MIT license](https://opensource.org/licenses/MIT)  "
   ]
  },
  {
   "cell_type": "markdown",
   "id": "4892292f-3ed5-4e47-999d-c4d84b82df25",
   "metadata": {},
   "source": [
    "***"
   ]
  },
  {
   "cell_type": "markdown",
   "id": "0db9b20d-a2f4-4ee7-85c7-356e58b58870",
   "metadata": {},
   "source": [
    "In this tutorial I want to give a brief introduction to a relatively new programming language which is very promosing, Julia. The synthax is very similar to Python and Matlab, and very easy to learn. Its major advantage is its speed."
   ]
  },
  {
   "cell_type": "markdown",
   "id": "4298fe20-b8f6-459b-963e-2b022f15d99c",
   "metadata": {},
   "source": [
    "### Printing"
   ]
  },
  {
   "cell_type": "code",
   "execution_count": 2,
   "id": "c4dbe653-83d1-4d5b-9887-abda98015070",
   "metadata": {},
   "outputs": [
    {
     "name": "stdout",
     "output_type": "stream",
     "text": [
      "Hello World"
     ]
    }
   ],
   "source": [
    "print(\"Hello \")\n",
    "print(\"World\")"
   ]
  },
  {
   "cell_type": "code",
   "execution_count": 3,
   "id": "ec677ce3-8d4b-4751-b81a-1febcd18a10d",
   "metadata": {},
   "outputs": [
    {
     "name": "stdout",
     "output_type": "stream",
     "text": [
      "Hello \n",
      "World\n"
     ]
    }
   ],
   "source": [
    "println(\"Hello \")\n",
    "println(\"World\")"
   ]
  },
  {
   "cell_type": "markdown",
   "id": "3e4f0b14-3691-4032-98c0-3c1efc46dbd9",
   "metadata": {},
   "source": [
    "### Multiple Dispatch"
   ]
  },
  {
   "cell_type": "code",
   "execution_count": 13,
   "id": "aa51750d-25bc-400f-a6db-1825a405bcef",
   "metadata": {},
   "outputs": [
    {
     "data": {
      "text/plain": [
       "my_function (generic function with 3 methods)"
      ]
     },
     "execution_count": 13,
     "metadata": {},
     "output_type": "execute_result"
    }
   ],
   "source": [
    "function my_function(x::Float64)\n",
    "    x/2\n",
    "end\n",
    "\n",
    "function my_function(x::String)\n",
    "    x * \"b\"\n",
    "end"
   ]
  },
  {
   "cell_type": "code",
   "execution_count": null,
   "id": "1216c663-42e0-4909-8e91-696959bb4054",
   "metadata": {},
   "outputs": [],
   "source": []
  }
 ],
 "metadata": {
  "kernelspec": {
   "display_name": "Julia 1.6.0",
   "language": "julia",
   "name": "julia-1.6"
  },
  "language_info": {
   "file_extension": ".jl",
   "mimetype": "application/julia",
   "name": "julia",
   "version": "1.6.0"
  }
 },
 "nbformat": 4,
 "nbformat_minor": 5
}
