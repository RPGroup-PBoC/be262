{
 "cells": [
  {
   "cell_type": "markdown",
   "metadata": {},
   "source": [
    "# Tutorial 0b: Using Jupyter Notebooks"
   ]
  },
  {
   "cell_type": "markdown",
   "metadata": {},
   "source": [
    "© 2018 Griffin Chure and Suzy Beeler, modified by Tom Röschinger, 2021. This work is licensed under a [Creative Commons Attribution License CC-BY 4.0](https://creativecommons.org/licenses/by/4.0/). All code contained herein is licensed under an [MIT license](https://opensource.org/licenses/MIT) "
   ]
  },
  {
   "cell_type": "markdown",
   "metadata": {},
   "source": [
    "--- "
   ]
  },
  {
   "cell_type": "markdown",
   "metadata": {},
   "source": [
    "##  What is a Jupyter notebook?"
   ]
  },
  {
   "cell_type": "markdown",
   "metadata": {},
   "source": [
    "[Jupyter](http://jupyter.org) is browser-based system to write code, math, and text in the same document such that you can clearly explain the concepts and practices used in your program. Jupyter is not only for Python, but can be used with R, Juila, MATLAB, and about 35 other languages as of this writing. All files are saved as a [JSON](http://www.json.org) formatted text file with the extension `.ipynb`. "
   ]
  },
  {
   "cell_type": "markdown",
   "metadata": {},
   "source": [
    "##  How to launch the notebook\n",
    "\n",
    "A Jupyter Notebook server can either be launched from the command line or from a GUI program installed along with anaconda called Navigator. "
   ]
  },
  {
   "cell_type": "markdown",
   "metadata": {},
   "source": [
    "### Launching from the command line"
   ]
  },
  {
   "cell_type": "markdown",
   "metadata": {},
   "source": [
    "To launch a notebook server from the command line, simply open a terminal emulator (Terminal.app on OSX or gitbash on windows) and navigate to the directory  you would like to set up a server by typing `cd path/to/folder` (please see the [Python syntax tutorial](t0c_python_syntax_and_plotting.html) for more detail on these commands). If you followed the directory structure specified in tutorial 0a, you can navigate to this directory as follows.\n",
    "\n",
    "```\n",
    "cd ~/bootcamp\n",
    "```\n",
    "\n",
    "Once you are in the correct folder, you can launch a notebook server by typing:\n",
    "\n",
    "```\n",
    "jupyter notebook\n",
    "```\n",
    "\n",
    "In this course we will be using Jupyter Lab, which can be launched similarly\n",
    "\n",
    "```\n",
    "jupyter lab\n",
    "```\n",
    "\n",
    "This will open a screen in your default Internet browser with a server containing your notebooks. It's address will be [`http://localhost:8888`](http://localhost:8888) and is only available on your computer. **Note that once you start a server, you must keep the terminal window open.** This is where the 'guts' of the Python kernel is. "
   ]
  },
  {
   "cell_type": "markdown",
   "metadata": {},
   "source": [
    "### Launching from the Anaconda Navigator "
   ]
  },
  {
   "cell_type": "markdown",
   "metadata": {},
   "source": [
    "Installing Python 3 from Anaconda should also install a GUI application called [Anaconda Navigator](https://docs.continuum.io/anaconda/navigator). By opening Anaconda-Navigator.app, you will be given the option to launch several applications. Here we are interested in the Jupyter Notebook application tab, which is shown boxed in red below:\n",
    "\n",
    "![](anaconda_navigator.png)\n",
    "\n",
    "By clicking on 'Launch', you will instantiate a Jupyter notebook server which should open in a new window. This window will display the file directory of your home directory. From here you can navigate to your ```bootcamp``` folder, provided you set you your file directory as [specified in tutorial 0a](t0a_setting_up_python.html)."
   ]
  },
  {
   "cell_type": "markdown",
   "metadata": {},
   "source": [
    "## Interacting with the notebook "
   ]
  },
  {
   "cell_type": "markdown",
   "metadata": {},
   "source": [
    "If everything launched correctly, you should be able to see a screen which looks something like this:\n",
    "\n",
    "![](starting_notebook.png)\n",
    "\n",
    "\n",
    "To start a new Python window, click on the right-hand side of the application window and select `New`. For our purposes, we will be selecting the `Python 3` option under notebooks. Note that you may instead see an option for `Python [conda root]` or `Python [root]`: these are also fine to select. \n",
    "\n",
    "Once you start a new notebook, you will be brought to the following screen.\n",
    "\n",
    "![](toolbars.png)\n",
    "\n",
    "Welcome to the Jupyter notebook! There are many available buttons for you to click. However, the three most important components of the notebook are highlighted in colored boxes. In blue is the name of the notebook. By clicking this, you can rename the notebook. In red is the cell formatting assignment. By default, it is registered as code, but it can also be set to markdown as described later. \n",
    "\n",
    "Finally, in purple, is the code cell. In this cell, you can type an execute Python code as well as text that will be formatted in a nicely readable format. "
   ]
  },
  {
   "cell_type": "markdown",
   "metadata": {},
   "source": [
    "##  Writing code"
   ]
  },
  {
   "cell_type": "markdown",
   "metadata": {},
   "source": [
    "All code you write in the notebook will be in the code cell. You can write single lines, to entire loops, to complete functions. As an example, we can write and evaluate a print statement in a code cell, as is shown below. To execute the code, we can simply hit `shift + enter` while our cursor is in the code cell.  "
   ]
  },
  {
   "cell_type": "code",
   "execution_count": 1,
   "metadata": {},
   "outputs": [
    {
     "name": "stdout",
     "output_type": "stream",
     "text": [
      "Hello! This is the print function. Python will print this line\n"
     ]
    }
   ],
   "source": [
    "# This is a comment and is not read by Python\n",
    "print('Hello! This is the print function. Python will print this line')"
   ]
  },
  {
   "cell_type": "markdown",
   "metadata": {},
   "source": [
    "The box with the gray background contains the Python code while the output is in the box with the white background. We can also write a `for loop` as an example of executing multiple lines of code at once."
   ]
  },
  {
   "cell_type": "code",
   "execution_count": 2,
   "metadata": {},
   "outputs": [
    {
     "name": "stdout",
     "output_type": "stream",
     "text": [
      "0\n",
      "2\n",
      "4\n",
      "6\n",
      "8\n"
     ]
    }
   ],
   "source": [
    "# Write a basic for loop.\n",
    "for i in range(5):\n",
    "    # Multiply the value of i by two and assign it to a variable. \n",
    "    temp_variable = 2 * i\n",
    "    \n",
    "    # Print the value of the temp variable.\n",
    "    print(temp_variable)"
   ]
  },
  {
   "cell_type": "markdown",
   "metadata": {},
   "source": [
    "[As is discussed in the Python syntax tutorial](t0c_python_syntax_and_plotting.html), we often must import modules to get scientific power out of our programs. Import statements work in these cells as well. For example, we can import multiple modules at once that we will use to make a plot.\n"
   ]
  },
  {
   "cell_type": "code",
   "execution_count": 3,
   "metadata": {},
   "outputs": [],
   "source": [
    "import numpy as np\n",
    "import matplotlib.pyplot as plt\n",
    "import seaborn as sns\n",
    "sns.set()"
   ]
  },
  {
   "cell_type": "markdown",
   "metadata": {},
   "source": [
    "In order for plots to render within the notebook, you must tell Python to display these plots inline. To do so, we can simply type the following.  "
   ]
  },
  {
   "cell_type": "code",
   "execution_count": 4,
   "metadata": {},
   "outputs": [],
   "source": [
    "%matplotlib inline"
   ]
  },
  {
   "cell_type": "markdown",
   "metadata": {},
   "source": [
    " As an example, we can plot one of Griffin's favorite functions. "
   ]
  },
  {
   "cell_type": "code",
   "execution_count": 7,
   "metadata": {},
   "outputs": [
    {
     "data": {
      "image/png": "[encoded data removed]",
      "text/plain": [
       "<Figure size 432x288 with 1 Axes>"
      ]
     },
     "metadata": {
      "needs_background": "light"
     },
     "output_type": "display_data"
    }
   ],
   "source": [
    "# Plot one of Griffin's favorite functions.\n",
    "x = np.linspace(-np.pi, np.pi, 500)\n",
    "y = np.sin(2 * np.sin(2 * np.sin(2 * x)))\n",
    "\n",
    "# Generate the plot.\n",
    "plt.plot(x, y)\n",
    "plt.xlabel(r'$x$', fontsize=16)\n",
    "plt.ylabel(r'$y$', fontsize=16)\n",
    "\n",
    "# Make custom labels for ticks on x-axis\n",
    "plt.xticks([-np.pi, 0, np.pi], ['$-\\pi$', '0', '$\\pi$'], fontsize=15);"
   ]
  },
  {
   "cell_type": "markdown",
   "metadata": {},
   "source": [
    "While you could in principle write an entire script's worth of code in a single code cell, this is not wise for readability. Therefore, keep the length of what you write in code cells to a logical minimum. Write them such that the perform a single step in your analysis, then move on to the next cell. For example, it is wise to write a function in its own code cell and then execute it in another. It is reasonable, however, to have a single notebook contain all code for a single analysis, just not in a single code cell. "
   ]
  },
  {
   "cell_type": "markdown",
   "metadata": {},
   "source": [
    "###  A warning"
   ]
  },
  {
   "cell_type": "markdown",
   "metadata": {},
   "source": [
    "Code cells can be executed in any order. This means that you can overwrite your current variables by running things out of order. **When coding in notebooks, be cautious of the order in which you run cells.**"
   ]
  },
  {
   "cell_type": "markdown",
   "metadata": {},
   "source": [
    "##  Writing Text"
   ]
  },
  {
   "cell_type": "markdown",
   "metadata": {},
   "source": [
    "Arguably the most useful component of the Jupyter notebook is the ability to interweave code and explanatory text into a single, coherent document.  \n",
    "\n",
    "Each cell in a Jupyter notebook can exist either as a code cell or as text-formatting cell called a **markdown** cell. [Markdown](https://daringfireball.net/projects/markdown/syntax) is a markup language that very easily converts to other typesetting formats such as HTML and PDF. You can [find a cheat sheet here](https://github.com/adam-p/markdown-here/wiki/Markdown-Cheatsheet). \n",
    "\n",
    "Whenever you make a new cell, it's default assignment will be a `code` cell. This means when you want to write text, you will need to specifically change it to a markdown cell. You can do this by clicking on the drop-down menu that reads `code` (highlighted in red in the second figure of this notebook) and selecting `Markdown`. You can then type in the code cell and all Python syntax highlighting will be removed. The basics of Markdown (nearly all you will need to know can be summarized by typing the following lines into a markdown cell. \n",
    "\n",
    "\n",
    "```\n",
    "**This part of the sentence will be bold**, *this part italic*, [this part a link](http://www.google.com), and \n",
    "* This part a \n",
    "    + bulleted\n",
    "        - list\n",
    "```\n",
    "\n",
    "These lines yield the following output:\n",
    "\n",
    "\n",
    "**This part of the sentence will be bold**, *this part italic*, [this part a link](http://www.google.com), and \n",
    "* This part a \n",
    "    + bulleted\n",
    "        - list\n"
   ]
  },
  {
   "cell_type": "markdown",
   "metadata": {},
   "source": [
    "Mathematics can be typeset using the [LaTeX typesetting language](https://en.wikipedia.org/wiki/LaTeX) within markdown cells. For example, typing \n",
    "\n",
    "```\n",
    "$$\n",
    "\\int\\limits_{-\\infty}^{\\infty}e^{-\\alpha x^2} dx = {\\sqrt{\\pi}\\over{\\alpha}}\n",
    "$$\n",
    "```\n",
    "into a markdown cell is rendered as \n",
    "\n",
    "$$\n",
    "\\int\\limits_{-\\infty}^{\\infty}e^{-\\alpha x^2} dx = {\\sqrt{\\pi\\over{\\alpha}}}.\n",
    "$$\n"
   ]
  },
  {
   "cell_type": "markdown",
   "metadata": {},
   "source": [
    "## Saving, quitting, and going home"
   ]
  },
  {
   "cell_type": "markdown",
   "metadata": {},
   "source": [
    "Jupyter notebooks are set up to autosave your work every 15 or so minutes. However, you should not rely on the autosave feature! Save your work frequently by clicking on the floppy disk icon located in the upper left-hand  corner of the toolbar.\n",
    "\n",
    "To navigate back to the root of your Jupyter notebook server, you can click on the Jupyter logo at any time.\n",
    "\n",
    "\n",
    "To quit your Jupyter notebook, you can simply close the browser window and the Jupyter notebook server running in your terminal."
   ]
  },
  {
   "cell_type": "markdown",
   "metadata": {},
   "source": [
    "## Converting to HTML and PDF"
   ]
  },
  {
   "cell_type": "markdown",
   "metadata": {},
   "source": [
    "It is useful to know that you can convert these notebooks to highly-portable formats such as HTML and PDF. To convert, you can either do this using the dropdown menu option `File -> download as -> ...` or via the command line by using the following lines:\n",
    "\n",
    "```\n",
    "jupyter nbconvert notebook_name.ipynb notebook_name.html\n",
    "```\n",
    "\n",
    "assuming you are in the same working directory as your notebooks."
   ]
  }
 ],
 "metadata": {
  "anaconda-cloud": {},
  "kernelspec": {
   "display_name": "Python (bootcamp)",
   "language": "python",
   "name": "bootcamp"
  },
  "language_info": {
   "codemirror_mode": {
    "name": "ipython",
    "version": 3
   },
   "file_extension": ".py",
   "mimetype": "text/x-python",
   "name": "python",
   "nbconvert_exporter": "python",
   "pygments_lexer": "ipython3",
   "version": "3.8.11"
  }
 },
 "nbformat": 4,
 "nbformat_minor": 4
}
