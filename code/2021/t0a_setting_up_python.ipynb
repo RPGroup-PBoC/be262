{
 "cells": [
  {
   "cell_type": "markdown",
   "metadata": {},
   "source": [
    "# Tutorial 0a: Setting Up Python For Scientific Computing"
   ]
  },
  {
   "cell_type": "markdown",
   "metadata": {},
   "source": [
    "© 2018 Griffin Chure and Suzy Beeler, modified by Tom Röschinger, 2021\n",
    ". This work is licensed under a [Creative Commons Attribution License CC-BY 4.0](https://creativecommons.org/licenses/by/4.0/). All code contained herein is licensed under an [MIT license](https://opensource.org/licenses/MIT) "
   ]
  },
  {
   "cell_type": "markdown",
   "metadata": {},
   "source": [
    "---"
   ]
  },
  {
   "cell_type": "markdown",
   "metadata": {},
   "source": [
    "In this tutorial, we will set up a scientific Python computing environment using the [Anaconda python distribution by Continuum Analytics](https://www.continuum.io/downloads). "
   ]
  },
  {
   "cell_type": "markdown",
   "metadata": {},
   "source": [
    "##  Why Python?"
   ]
  },
  {
   "cell_type": "markdown",
   "metadata": {},
   "source": [
    "As is true in human language, there are [hundreds of computer programming languages](https://en.wikipedia.org/wiki/List_of_programming_languages). While each has its own merit, the major languages for scientific computing are C, C++, R, MATLAB, Python, Java, Fortran and Julia. [MATLAB](https://www.mathworks.com), [Python](https://www.python.org) and [Julia](https://julialang.org/) are similar in syntax and typically read as if they were written in plain English. This makes all three languages a useful tool for teaching but they are also very powerful languages and are **very** actively used in real-life research. MATLAB is proprietary while Python and Julia are open source. A benefit of being open source is that anyone can write and release packages. For science, there are many wonderful community-driven packages such as the Python packages [NumPy](http://www.numpy.org), [SciPy](http://www.scipy.org), [scikit-image](http://scikit-image.org), and [Pandas](http://pandas.pydata.org) just to name a few. "
   ]
  },
  {
   "cell_type": "markdown",
   "metadata": {},
   "source": [
    "##  Installing Python 3.8 with Anaconda"
   ]
  },
  {
   "cell_type": "markdown",
   "metadata": {},
   "source": [
    "### Python 3.8 vs Python 2.7 "
   ]
  },
  {
   "cell_type": "markdown",
   "metadata": {},
   "source": [
    "There are two dominant versions of Python used for scientific computing, Python 2.7 and Python 3.8. However, as of 2020, Python 2.7 is no longer supported and Python 3.8 is the recommended version to use, which is why we are using this version in these tutorials."
   ]
  },
  {
   "cell_type": "markdown",
   "metadata": {},
   "source": [
    "### Anaconda"
   ]
  },
  {
   "cell_type": "markdown",
   "metadata": {},
   "source": [
    "There are several scientific Python distributions available for MacOS, Windows, and Linux. The two most popular, [Enthought Canopy](https://www.enthought.com/products/canopy/) and [Anaconda](https://www.anaconda.com) are specifically designed for scientific computing and data science work. For this course, we will use the Anaconda Python 3.8 distribution. To install the correct version, follow the instructions below.\n",
    "\n",
    "1. Navigate to [the Anaconda download page](https://www.anaconda.com/products/individual) and download the Python 3.8 graphical installer.\n",
    "\n",
    "2. Launch the installer and follow the onscreen instructions.\n",
    "\n",
    "\n",
    "Congratulations! You now have the beginnings of a scientific Python distribution."
   ]
  },
  {
   "cell_type": "markdown",
   "metadata": {},
   "source": [
    "### Installing GitBash for Windows Users"
   ]
  },
  {
   "cell_type": "markdown",
   "metadata": {},
   "source": [
    "It will be useful to have access to a UNIX command line to launch Jupyter notebooks, make and move directories, as well as to install extra packages for Python through the conda package manager. For those on OSX, we will use the built-in Terminal.app program. For those using Linux, we will assume you know what we are talking about and have some familiarity with the command line. \n",
    "\n",
    "Windows does not come with a UNIX command line interface. To install such an interface, we recommend using GitBash. To install, please navigate to their [download page](https://git-for-windows.github.io) and follow the download instructions. Please set the following settings upon installation.\n",
    "\n",
    "* `Adjusting your PATH environment -> Use Git from Windows Command Prompt.`\n",
    "* `Configuring the line ending conversions -> Checkout Windows-style, commit unix style line endings.`\n",
    "\n",
    "We will not be using the git version control system, so these preferences are less important.\n",
    "\n",
    "Once installed, **you will be able to launch a UNIX compatible terminal interface wherever you are in your operating system by right clicking on the desktop or windows explorer window and selecting \"Run GitBash here\".**\n",
    "\n",
    "Please see the [python syntax tutorial](t0c_python_syntax_and_plotting.html) for a primer on using the UNIX command line. "
   ]
  },
  {
   "cell_type": "markdown",
   "metadata": {},
   "source": [
    "### Setting up the directory structure"
   ]
  },
  {
   "cell_type": "markdown",
   "metadata": {},
   "source": [
    "For this course (and your coding in 'real life'), it will help if you follow a specific directory structure for your code and data. During this course, we will write a lot of code that will load in data. To ensure that everyone's code runs properly, it is essential that you all set up your directories in the same way. All code we write will assume that you have the following directory structure:\n",
    "\n",
    "1. In your home directory, make a new folder named `bootcamp`. On MacOS and Linux, your home directory will be in `/Users/YOUR_USERNAME/`. On Windows, your home directory will be in `C::/Users/YOUR_USERNAME/`.  \n",
    "\n",
    "2. All code files you write during the course will be saved in this `bootcamp` folder.\n",
    "\n",
    "3. Within the `bootcamp` folder, make a folder named `data`, into which all data files from the course will be saved. "
   ]
  },
  {
   "cell_type": "markdown",
   "metadata": {},
   "source": [
    "If you have followed all of these steps successfully, you should have a complete setup for scientific computing in Python! You are now ready to start coding! We will be using [Jupyter Notebooks](http://jupyter.org), which allow us to write code, text, and math into a single document. In fact, this (and all other tutorials) were written in Jupyter notebooks. The [next tutorial](./t0b_jupyter_notebooks.html) will introduce you to Jupyter Notebooks and how to use them."
   ]
  },
  {
   "cell_type": "markdown",
   "metadata": {},
   "source": [
    "### Installing Packages"
   ]
  },
  {
   "cell_type": "markdown",
   "metadata": {},
   "source": [
    "We will use a variety of different Python packages in this course. Here will be a small introduction on how to set up a minimal environment that is sufficient for the exercises in this class.\n",
    "\n",
    "First we need to update `conda` to the most recent version.\n",
    "\n",
    "```\n",
    "conda update conda\n",
    "```\n",
    "\n",
    "In case you already have used `conda` in the past, it is a good idea to update all packages to the most recent version. A huge advantage of managing packages with `conda` is that package dependencies are maintained, which means that the versions of packages that work with all the others are kept.\n",
    "\n",
    "```\n",
    "conda update --all\n",
    "```\n",
    "\n",
    "Next, we can install all packages using `pip`."
   ]
  },
  {
   "cell_type": "code",
   "execution_count": 2,
   "metadata": {},
   "outputs": [
    {
     "name": "stdout",
     "output_type": "stream",
     "text": [
      "Collecting package metadata (current_repodata.json): done\n",
      "Solving environment: done\n",
      "\n",
      "## Package Plan ##\n",
      "\n",
      "  environment location: /Users/tomroschinger/opt/anaconda3\n",
      "\n",
      "  added / updated specs:\n",
      "    - nodejs\n",
      "\n",
      "\n",
      "The following NEW packages will be INSTALLED:\n",
      "\n",
      "  python_abi         conda-forge/osx-64::python_abi-3.8-2_cp38\n",
      "\n",
      "The following packages will be SUPERSEDED by a higher-priority channel:\n",
      "\n",
      "  ca-certificates    pkgs/main::ca-certificates-2021.7.5-h~ --> conda-forge::ca-certificates-2021.5.30-h033912b_0\n",
      "  certifi            pkgs/main::certifi-2021.5.30-py38hecd~ --> conda-forge::certifi-2021.5.30-py38h50d1736_0\n",
      "  conda              pkgs/main::conda-4.10.3-py38hecd8cb5_0 --> conda-forge::conda-4.10.3-py38h50d1736_0\n",
      "  nodejs               pkgs/main::nodejs-10.13.0-h0a44026_0 --> conda-forge::nodejs-6.13.1-0\n",
      "  openssl              pkgs/main::openssl-1.1.1k-h9ed2024_0 --> conda-forge::openssl-1.1.1k-h0d85af4_0\n",
      "\n",
      "\n",
      "Proceed ([y]/n)? ^C\n",
      "\n",
      "CondaSystemExit: \n",
      "Operation aborted.  Exiting.\n",
      "\n"
     ]
    }
   ],
   "source": []
  },
  {
   "cell_type": "code",
   "execution_count": 1,
   "metadata": {},
   "outputs": [],
   "source": [
    "requirements = \"\"\"\n",
    "numpy\n",
    "pandas\n",
    "matplotlib\n",
    "seaborn\n",
    "panel\n",
    "bokeh\n",
    "scikit-image\n",
    "holoviews \n",
    "param \n",
    "panel \n",
    "colorcet \n",
    "hvplot \n",
    "datashader\n",
    "nodejs  \n",
    "black\n",
    "watermark \n",
    "blackcellmagic \n",
    "multiprocess \n",
    "jupytext\n",
    "\"\"\"\n",
    "\n",
    "with open('requirements.txt', 'w') as f:\n",
    "    f.write(requirements)"
   ]
  },
  {
   "cell_type": "markdown",
   "metadata": {},
   "source": [
    "The packages can then be installed from this simple text file."
   ]
  },
  {
   "cell_type": "code",
   "execution_count": 3,
   "metadata": {},
   "outputs": [
    {
     "name": "stdout",
     "output_type": "stream",
     "text": [
      "Requirement already satisfied: numpy in /Users/tomroschinger/opt/anaconda3/lib/python3.8/site-packages (from -r requirements.txt (line 2)) (1.20.3)\n",
      "Requirement already satisfied: pandas in /Users/tomroschinger/opt/anaconda3/lib/python3.8/site-packages (from -r requirements.txt (line 3)) (1.3.0)\n",
      "Requirement already satisfied: matplotlib in /Users/tomroschinger/opt/anaconda3/lib/python3.8/site-packages (from -r requirements.txt (line 4)) (3.3.4)\n",
      "Requirement already satisfied: seaborn in /Users/tomroschinger/opt/anaconda3/lib/python3.8/site-packages (from -r requirements.txt (line 5)) (0.11.1)\n",
      "Requirement already satisfied: panel in /Users/tomroschinger/opt/anaconda3/lib/python3.8/site-packages (from -r requirements.txt (line 6)) (0.11.3)\n",
      "Requirement already satisfied: bokeh in /Users/tomroschinger/opt/anaconda3/lib/python3.8/site-packages (from -r requirements.txt (line 7)) (2.3.3)\n",
      "Requirement already satisfied: scikit-image in /Users/tomroschinger/opt/anaconda3/lib/python3.8/site-packages (from -r requirements.txt (line 8)) (0.18.1)\n",
      "Requirement already satisfied: holoviews in /Users/tomroschinger/opt/anaconda3/lib/python3.8/site-packages (from -r requirements.txt (line 9)) (1.14.4)\n",
      "Requirement already satisfied: param in /Users/tomroschinger/opt/anaconda3/lib/python3.8/site-packages (from -r requirements.txt (line 10)) (1.11.1)\n",
      "Requirement already satisfied: colorcet in /Users/tomroschinger/opt/anaconda3/lib/python3.8/site-packages (from -r requirements.txt (line 12)) (2.0.6)\n",
      "Requirement already satisfied: hvplot in /Users/tomroschinger/opt/anaconda3/lib/python3.8/site-packages (from -r requirements.txt (line 13)) (0.7.2)\n",
      "Requirement already satisfied: datashader in /Users/tomroschinger/opt/anaconda3/lib/python3.8/site-packages (from -r requirements.txt (line 14)) (0.13.0)\n",
      "Collecting nodejs\n",
      "  Using cached nodejs-0.1.1.tar.gz (2.3 kB)\n",
      "Requirement already satisfied: black in /Users/tomroschinger/opt/anaconda3/lib/python3.8/site-packages (from -r requirements.txt (line 16)) (19.10b0)\n",
      "Collecting watermark\n",
      "  Downloading watermark-2.2.0-py2.py3-none-any.whl (6.8 kB)\n",
      "Collecting blackcellmagic\n",
      "  Using cached blackcellmagic-0.0.2-py3-none-any.whl\n",
      "Collecting multiprocess\n",
      "  Downloading multiprocess-0.70.12.2-py38-none-any.whl (128 kB)\n",
      "\u001b[K     |████████████████████████████████| 128 kB 3.9 MB/s eta 0:00:01\n",
      "\u001b[?25hCollecting jupytext\n",
      "  Downloading jupytext-1.11.4-py3-none-any.whl (292 kB)\n",
      "\u001b[K     |████████████████████████████████| 292 kB 6.4 MB/s eta 0:00:01\n",
      "\u001b[?25hRequirement already satisfied: python-dateutil>=2.7.3 in /Users/tomroschinger/opt/anaconda3/lib/python3.8/site-packages (from pandas->-r requirements.txt (line 3)) (2.8.2)\n",
      "Requirement already satisfied: pytz>=2017.3 in /Users/tomroschinger/opt/anaconda3/lib/python3.8/site-packages (from pandas->-r requirements.txt (line 3)) (2021.1)\n",
      "Requirement already satisfied: six>=1.5 in /Users/tomroschinger/opt/anaconda3/lib/python3.8/site-packages (from python-dateutil>=2.7.3->pandas->-r requirements.txt (line 3)) (1.16.0)\n",
      "Requirement already satisfied: kiwisolver>=1.0.1 in /Users/tomroschinger/opt/anaconda3/lib/python3.8/site-packages (from matplotlib->-r requirements.txt (line 4)) (1.3.1)\n",
      "Requirement already satisfied: cycler>=0.10 in /Users/tomroschinger/opt/anaconda3/lib/python3.8/site-packages (from matplotlib->-r requirements.txt (line 4)) (0.10.0)\n",
      "Requirement already satisfied: pyparsing!=2.0.4,!=2.1.2,!=2.1.6,>=2.0.3 in /Users/tomroschinger/opt/anaconda3/lib/python3.8/site-packages (from matplotlib->-r requirements.txt (line 4)) (2.4.7)\n",
      "Requirement already satisfied: pillow>=6.2.0 in /Users/tomroschinger/opt/anaconda3/lib/python3.8/site-packages (from matplotlib->-r requirements.txt (line 4)) (8.3.1)\n",
      "Requirement already satisfied: scipy>=1.0 in /Users/tomroschinger/opt/anaconda3/lib/python3.8/site-packages (from seaborn->-r requirements.txt (line 5)) (1.6.2)\n",
      "Requirement already satisfied: requests in /Users/tomroschinger/opt/anaconda3/lib/python3.8/site-packages (from panel->-r requirements.txt (line 6)) (2.25.1)\n",
      "Requirement already satisfied: pyct>=0.4.4 in /Users/tomroschinger/opt/anaconda3/lib/python3.8/site-packages (from panel->-r requirements.txt (line 6)) (0.4.8)\n",
      "Requirement already satisfied: markdown in /Users/tomroschinger/opt/anaconda3/lib/python3.8/site-packages (from panel->-r requirements.txt (line 6)) (3.3.4)\n",
      "Requirement already satisfied: pyviz-comms>=0.7.4 in /Users/tomroschinger/opt/anaconda3/lib/python3.8/site-packages (from panel->-r requirements.txt (line 6)) (2.0.2)\n",
      "Requirement already satisfied: tqdm in /Users/tomroschinger/opt/anaconda3/lib/python3.8/site-packages (from panel->-r requirements.txt (line 6)) (4.61.2)\n",
      "Requirement already satisfied: Jinja2>=2.9 in /Users/tomroschinger/opt/anaconda3/lib/python3.8/site-packages (from bokeh->-r requirements.txt (line 7)) (3.0.1)\n",
      "Requirement already satisfied: PyYAML>=3.10 in /Users/tomroschinger/opt/anaconda3/lib/python3.8/site-packages (from bokeh->-r requirements.txt (line 7)) (5.4.1)\n",
      "Requirement already satisfied: tornado>=5.1 in /Users/tomroschinger/opt/anaconda3/lib/python3.8/site-packages (from bokeh->-r requirements.txt (line 7)) (6.1)\n",
      "Requirement already satisfied: packaging>=16.8 in /Users/tomroschinger/opt/anaconda3/lib/python3.8/site-packages (from bokeh->-r requirements.txt (line 7)) (21.0)\n",
      "Requirement already satisfied: typing-extensions>=3.7.4 in /Users/tomroschinger/opt/anaconda3/lib/python3.8/site-packages (from bokeh->-r requirements.txt (line 7)) (3.10.0.0)\n",
      "Requirement already satisfied: MarkupSafe>=2.0 in /Users/tomroschinger/opt/anaconda3/lib/python3.8/site-packages (from Jinja2>=2.9->bokeh->-r requirements.txt (line 7)) (2.0.1)\n",
      "Requirement already satisfied: networkx>=2.0 in /Users/tomroschinger/opt/anaconda3/lib/python3.8/site-packages (from scikit-image->-r requirements.txt (line 8)) (2.6.1)\n",
      "Requirement already satisfied: imageio>=2.3.0 in /Users/tomroschinger/opt/anaconda3/lib/python3.8/site-packages (from scikit-image->-r requirements.txt (line 8)) (2.9.0)\n",
      "Requirement already satisfied: tifffile>=2019.7.26 in /Users/tomroschinger/opt/anaconda3/lib/python3.8/site-packages (from scikit-image->-r requirements.txt (line 8)) (2020.10.1)\n",
      "Requirement already satisfied: PyWavelets>=1.1.1 in /Users/tomroschinger/opt/anaconda3/lib/python3.8/site-packages (from scikit-image->-r requirements.txt (line 8)) (1.1.1)\n",
      "Requirement already satisfied: dask[complete]>=0.18.0 in /Users/tomroschinger/opt/anaconda3/lib/python3.8/site-packages (from datashader->-r requirements.txt (line 14)) (2021.7.0)\n",
      "Requirement already satisfied: datashape>=0.5.1 in /Users/tomroschinger/opt/anaconda3/lib/python3.8/site-packages (from datashader->-r requirements.txt (line 14)) (0.5.2)\n",
      "Requirement already satisfied: numba>=0.51 in /Users/tomroschinger/opt/anaconda3/lib/python3.8/site-packages (from datashader->-r requirements.txt (line 14)) (0.53.1)\n",
      "Requirement already satisfied: xarray>=0.9.6 in /Users/tomroschinger/opt/anaconda3/lib/python3.8/site-packages (from datashader->-r requirements.txt (line 14)) (0.18.2)\n",
      "Requirement already satisfied: cloudpickle>=1.1.1 in /Users/tomroschinger/opt/anaconda3/lib/python3.8/site-packages (from dask[complete]>=0.18.0->datashader->-r requirements.txt (line 14)) (1.6.0)\n",
      "Requirement already satisfied: fsspec>=0.6.0 in /Users/tomroschinger/opt/anaconda3/lib/python3.8/site-packages (from dask[complete]>=0.18.0->datashader->-r requirements.txt (line 14)) (2021.7.0)\n",
      "Requirement already satisfied: partd>=0.3.10 in /Users/tomroschinger/opt/anaconda3/lib/python3.8/site-packages (from dask[complete]>=0.18.0->datashader->-r requirements.txt (line 14)) (1.2.0)\n",
      "Requirement already satisfied: toolz>=0.8.2 in /Users/tomroschinger/opt/anaconda3/lib/python3.8/site-packages (from dask[complete]>=0.18.0->datashader->-r requirements.txt (line 14)) (0.11.1)\n",
      "Requirement already satisfied: distributed==2021.07.0 in /Users/tomroschinger/opt/anaconda3/lib/python3.8/site-packages (from dask[complete]>=0.18.0->datashader->-r requirements.txt (line 14)) (2021.7.0)\n",
      "Requirement already satisfied: tblib>=1.6.0 in /Users/tomroschinger/opt/anaconda3/lib/python3.8/site-packages (from distributed==2021.07.0->dask[complete]>=0.18.0->datashader->-r requirements.txt (line 14)) (1.7.0)\n",
      "Requirement already satisfied: sortedcontainers!=2.0.0,!=2.0.1 in /Users/tomroschinger/opt/anaconda3/lib/python3.8/site-packages (from distributed==2021.07.0->dask[complete]>=0.18.0->datashader->-r requirements.txt (line 14)) (2.4.0)\n",
      "Requirement already satisfied: click>=6.6 in /Users/tomroschinger/opt/anaconda3/lib/python3.8/site-packages (from distributed==2021.07.0->dask[complete]>=0.18.0->datashader->-r requirements.txt (line 14)) (8.0.1)\n",
      "Requirement already satisfied: setuptools in /Users/tomroschinger/opt/anaconda3/lib/python3.8/site-packages (from distributed==2021.07.0->dask[complete]>=0.18.0->datashader->-r requirements.txt (line 14)) (52.0.0.post20210125)\n",
      "Requirement already satisfied: msgpack>=0.6.0 in /Users/tomroschinger/opt/anaconda3/lib/python3.8/site-packages (from distributed==2021.07.0->dask[complete]>=0.18.0->datashader->-r requirements.txt (line 14)) (1.0.2)\n",
      "Requirement already satisfied: zict>=0.1.3 in /Users/tomroschinger/opt/anaconda3/lib/python3.8/site-packages (from distributed==2021.07.0->dask[complete]>=0.18.0->datashader->-r requirements.txt (line 14)) (2.0.0)\n",
      "Requirement already satisfied: psutil>=5.0 in /Users/tomroschinger/opt/anaconda3/lib/python3.8/site-packages (from distributed==2021.07.0->dask[complete]>=0.18.0->datashader->-r requirements.txt (line 14)) (5.8.0)\n",
      "Requirement already satisfied: multipledispatch>=0.4.7 in /Users/tomroschinger/opt/anaconda3/lib/python3.8/site-packages (from datashape>=0.5.1->datashader->-r requirements.txt (line 14)) (0.6.0)\n",
      "Requirement already satisfied: llvmlite<0.37,>=0.36.0rc1 in /Users/tomroschinger/opt/anaconda3/lib/python3.8/site-packages (from numba>=0.51->datashader->-r requirements.txt (line 14)) (0.36.0)\n",
      "Requirement already satisfied: locket in /Users/tomroschinger/opt/anaconda3/lib/python3.8/site-packages/locket-0.2.1-py3.8.egg (from partd>=0.3.10->dask[complete]>=0.18.0->datashader->-r requirements.txt (line 14)) (0.2.1)\n",
      "Requirement already satisfied: heapdict in /Users/tomroschinger/opt/anaconda3/lib/python3.8/site-packages (from zict>=0.1.3->distributed==2021.07.0->dask[complete]>=0.18.0->datashader->-r requirements.txt (line 14)) (1.0.1)\n",
      "Collecting optional-django==0.1.0\n",
      "  Using cached optional-django-0.1.0.tar.gz (9.5 kB)\n",
      "Requirement already satisfied: typed-ast>=1.4.0 in /Users/tomroschinger/opt/anaconda3/lib/python3.8/site-packages (from black->-r requirements.txt (line 16)) (1.4.3)\n",
      "Requirement already satisfied: appdirs in /Users/tomroschinger/opt/anaconda3/lib/python3.8/site-packages (from black->-r requirements.txt (line 16)) (1.4.4)\n",
      "Requirement already satisfied: pathspec<1,>=0.6 in /Users/tomroschinger/opt/anaconda3/lib/python3.8/site-packages (from black->-r requirements.txt (line 16)) (0.7.0)\n",
      "Requirement already satisfied: regex in /Users/tomroschinger/opt/anaconda3/lib/python3.8/site-packages (from black->-r requirements.txt (line 16)) (2021.7.6)\n",
      "Requirement already satisfied: attrs>=18.1.0 in /Users/tomroschinger/opt/anaconda3/lib/python3.8/site-packages (from black->-r requirements.txt (line 16)) (21.2.0)\n",
      "Requirement already satisfied: toml>=0.9.4 in /Users/tomroschinger/opt/anaconda3/lib/python3.8/site-packages (from black->-r requirements.txt (line 16)) (0.10.2)\n",
      "Requirement already satisfied: ipython in /Users/tomroschinger/opt/anaconda3/lib/python3.8/site-packages (from watermark->-r requirements.txt (line 17)) (7.22.0)\n",
      "Collecting dill>=0.3.4\n",
      "  Downloading dill-0.3.4-py2.py3-none-any.whl (86 kB)\n",
      "\u001b[K     |████████████████████████████████| 86 kB 5.7 MB/s eta 0:00:01\n",
      "\u001b[?25hRequirement already satisfied: nbformat in /Users/tomroschinger/opt/anaconda3/lib/python3.8/site-packages (from jupytext->-r requirements.txt (line 20)) (5.1.3)\n",
      "Collecting mdit-py-plugins\n",
      "  Downloading mdit_py_plugins-0.2.8-py3-none-any.whl (41 kB)\n",
      "\u001b[K     |████████████████████████████████| 41 kB 123 kB/s  eta 0:00:01\n",
      "\u001b[?25hCollecting markdown-it-py~=1.0\n",
      "  Downloading markdown_it_py-1.1.0-py3-none-any.whl (83 kB)\n",
      "\u001b[K     |████████████████████████████████| 83 kB 4.4 MB/s eta 0:00:01\n",
      "\u001b[?25hRequirement already satisfied: pickleshare in /Users/tomroschinger/opt/anaconda3/lib/python3.8/site-packages (from ipython->watermark->-r requirements.txt (line 17)) (0.7.5)\n",
      "Requirement already satisfied: decorator in /Users/tomroschinger/opt/anaconda3/lib/python3.8/site-packages (from ipython->watermark->-r requirements.txt (line 17)) (5.0.9)\n",
      "Requirement already satisfied: traitlets>=4.2 in /Users/tomroschinger/opt/anaconda3/lib/python3.8/site-packages (from ipython->watermark->-r requirements.txt (line 17)) (5.0.5)\n",
      "Requirement already satisfied: jedi>=0.16 in /Users/tomroschinger/opt/anaconda3/lib/python3.8/site-packages (from ipython->watermark->-r requirements.txt (line 17)) (0.17.2)\n",
      "Requirement already satisfied: appnope in /Users/tomroschinger/opt/anaconda3/lib/python3.8/site-packages (from ipython->watermark->-r requirements.txt (line 17)) (0.1.2)\n",
      "Requirement already satisfied: pygments in /Users/tomroschinger/opt/anaconda3/lib/python3.8/site-packages (from ipython->watermark->-r requirements.txt (line 17)) (2.9.0)\n",
      "Requirement already satisfied: prompt-toolkit!=3.0.0,!=3.0.1,<3.1.0,>=2.0.0 in /Users/tomroschinger/opt/anaconda3/lib/python3.8/site-packages (from ipython->watermark->-r requirements.txt (line 17)) (3.0.17)\n",
      "Requirement already satisfied: pexpect>4.3 in /Users/tomroschinger/opt/anaconda3/lib/python3.8/site-packages (from ipython->watermark->-r requirements.txt (line 17)) (4.8.0)\n",
      "Requirement already satisfied: backcall in /Users/tomroschinger/opt/anaconda3/lib/python3.8/site-packages (from ipython->watermark->-r requirements.txt (line 17)) (0.2.0)\n",
      "Requirement already satisfied: parso<0.8.0,>=0.7.0 in /Users/tomroschinger/opt/anaconda3/lib/python3.8/site-packages (from jedi>=0.16->ipython->watermark->-r requirements.txt (line 17)) (0.7.0)\n",
      "Requirement already satisfied: ptyprocess>=0.5 in /Users/tomroschinger/opt/anaconda3/lib/python3.8/site-packages (from pexpect>4.3->ipython->watermark->-r requirements.txt (line 17)) (0.7.0)\n",
      "Requirement already satisfied: wcwidth in /Users/tomroschinger/opt/anaconda3/lib/python3.8/site-packages (from prompt-toolkit!=3.0.0,!=3.0.1,<3.1.0,>=2.0.0->ipython->watermark->-r requirements.txt (line 17)) (0.2.5)\n",
      "Requirement already satisfied: ipython-genutils in /Users/tomroschinger/opt/anaconda3/lib/python3.8/site-packages (from traitlets>=4.2->ipython->watermark->-r requirements.txt (line 17)) (0.2.0)\n",
      "Requirement already satisfied: jupyter-core in /Users/tomroschinger/opt/anaconda3/lib/python3.8/site-packages (from nbformat->jupytext->-r requirements.txt (line 20)) (4.7.1)\n",
      "Requirement already satisfied: jsonschema!=2.5.0,>=2.4 in /Users/tomroschinger/opt/anaconda3/lib/python3.8/site-packages (from nbformat->jupytext->-r requirements.txt (line 20)) (3.2.0)\n",
      "Requirement already satisfied: pyrsistent>=0.14.0 in /Users/tomroschinger/opt/anaconda3/lib/python3.8/site-packages (from jsonschema!=2.5.0,>=2.4->nbformat->jupytext->-r requirements.txt (line 20)) (0.17.3)\n",
      "Requirement already satisfied: idna<3,>=2.5 in /Users/tomroschinger/opt/anaconda3/lib/python3.8/site-packages (from requests->panel->-r requirements.txt (line 6)) (2.10)\n",
      "Requirement already satisfied: chardet<5,>=3.0.2 in /Users/tomroschinger/opt/anaconda3/lib/python3.8/site-packages (from requests->panel->-r requirements.txt (line 6)) (4.0.0)\n",
      "Requirement already satisfied: certifi>=2017.4.17 in /Users/tomroschinger/opt/anaconda3/lib/python3.8/site-packages (from requests->panel->-r requirements.txt (line 6)) (2021.5.30)\n",
      "Requirement already satisfied: urllib3<1.27,>=1.21.1 in /Users/tomroschinger/opt/anaconda3/lib/python3.8/site-packages (from requests->panel->-r requirements.txt (line 6)) (1.26.6)\n",
      "Building wheels for collected packages: nodejs, optional-django\n",
      "  Building wheel for nodejs (setup.py) ... \u001b[?25ldone\n",
      "\u001b[?25h  Created wheel for nodejs: filename=nodejs-0.1.1-py3-none-any.whl size=3492 sha256=84ad6dd158e3b253d18085e233b03cb7d008e6b91d3cbd340e9344046827a05c\n",
      "  Stored in directory: /Users/tomroschinger/Library/Caches/pip/wheels/b3/ce/d8/40f8634e964582985b2c4560cbba06d4f50d3da980fccd0497\n",
      "  Building wheel for optional-django (setup.py) ... \u001b[?25ldone\n",
      "\u001b[?25h  Created wheel for optional-django: filename=optional_django-0.1.0-py3-none-any.whl size=9980 sha256=92a660106b98e620dd4481a96dab0bda675135a4228495c892d3e0049b0d6202\n",
      "  Stored in directory: /Users/tomroschinger/Library/Caches/pip/wheels/3b/42/9c/10c5c4021a4edf8416f18e88b427b92e99f187e61e15e08100\n",
      "Successfully built nodejs optional-django\n",
      "Installing collected packages: markdown-it-py, optional-django, mdit-py-plugins, dill, watermark, nodejs, multiprocess, jupytext, blackcellmagic\n",
      "Successfully installed blackcellmagic-0.0.2 dill-0.3.4 jupytext-1.11.4 markdown-it-py-1.1.0 mdit-py-plugins-0.2.8 multiprocess-0.70.12.2 nodejs-0.1.1 optional-django-0.1.0 watermark-2.2.0\n"
     ]
    }
   ],
   "source": [
    "!pip install -r requirements.txt"
   ]
  }
 ],
 "metadata": {
  "anaconda-cloud": {},
  "kernelspec": {
   "display_name": "Python (bootcamp)",
   "language": "python",
   "name": "bootcamp"
  },
  "language_info": {
   "codemirror_mode": {
    "name": "ipython",
    "version": 3
   },
   "file_extension": ".py",
   "mimetype": "text/x-python",
   "name": "python",
   "nbconvert_exporter": "python",
   "pygments_lexer": "ipython3",
   "version": "3.8.11"
  }
 },
 "nbformat": 4,
 "nbformat_minor": 4
}
