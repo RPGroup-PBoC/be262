{
 "cells": [
  {
   "cell_type": "markdown",
   "metadata": {},
   "source": [
    "© 2018 Suzy Beeler and Griffin Chure. This work is licensed under a [Creative Commons Attribution License CC-BY 4.0](https://creativecommons.org/licenses/by/4.0/). All code contained herein is licensed under an [MIT license](https://opensource.org/licenses/MIT) \n",
    "\n",
    "This exercise was generated from a Jupyter notebook. You can download the notebook [here](genetic_drift.ipynb).\n",
    "___\n",
    "\n",
    "# Objective \n",
    "\n",
    "Here we will discuss the Wright-Fisher model of genetic drift using two approaches: firstly through the analytical definition of the allele frequency over time and secondly through a computational simulation. This tutorial illustrates the role that genetic drift plays in evolution **in the absence of selection** as well as the value of computing results in multiple ways.\n",
    "\n",
    "# Wright-Fisher model of genetic drift\n",
    "\n"
   ]
  },
  {
   "cell_type": "code",
   "execution_count": null,
   "metadata": {},
   "outputs": [],
   "source": []
  }
 ],
 "metadata": {
  "kernelspec": {
   "display_name": "Python 3",
   "language": "python",
   "name": "python3"
  },
  "language_info": {
   "codemirror_mode": {
    "name": "ipython",
    "version": 3
   },
   "file_extension": ".py",
   "mimetype": "text/x-python",
   "name": "python",
   "nbconvert_exporter": "python",
   "pygments_lexer": "ipython3",
   "version": "3.6.6"
  }
 },
 "nbformat": 4,
 "nbformat_minor": 2
}
