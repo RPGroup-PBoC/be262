{
 "cells": [
  {
   "cell_type": "markdown",
   "metadata": {},
   "source": [
    "© 2018 Suzy Beeler and Griffin Chure. This work is licensed under a [Creative Commons Attribution License CC-BY 4.0](https://creativecommons.org/licenses/by/4.0/). All code contained herein is licensed under an [MIT license](https://opensource.org/licenses/MIT) \n",
    "\n",
    "This exercise was generated from a Jupyter notebook. You can download the notebook [here](forward_euler.ipynb).\n",
    "___\n",
    "\n",
    "# Objective \n",
    "\n",
    "In this tutorial, we will cover how to write a simple numerical integrator using the Forward Euler method to examine the dynamics of exponential growth."
   ]
  },
  {
   "cell_type": "markdown",
   "metadata": {},
   "source": [
    "# The Forward Euler Method\n",
    "\n",
    "Developing simple ways to solve ordinary differential equations has long been an area of intense research. While deriving the analytical solution may be simple in some cases, it is often useful to solve them numerically, especially if slamming out the analytical solution will give you carpal tunnel.\n",
    "\n",
    "While there are many ways to numerically integrate these equations, in this tutorial we will examine the Forward Euler method. Say we have an ordinary differential equation such as\n",
    "\n",
    "$$\\frac{dN}{dt} = r N(t) \\tag{1}$$\n",
    "\n",
    "as would be the case for exponential growth, where $r$ is some growth-rate constant and  $t$  is time. Rather than solving this analytically (although it is trivial), we can solve it numerically by starting at some given value of $N$, evaluating Equation (1) for a given time step $\\Delta t$, and updating the new value of $N$ at this new time $t+ \\Delta t$. We can phrase this mathematically as\n",
    "\n",
    "$$N(t+ \\Delta t) = N(t) + rN(t) \\Delta t .\\tag{2}$$\n",
    "\n",
    "Say our initial value ($N$ at $t=0$) is  $N=10$  and $r=1$. We can take a time step $\\Delta t=0.1$ and find that the change in value of $N$ is\n",
    "\n",
    "$$\\Delta N = rN\\Delta t = 1. \\tag{3}$$\n",
    "\n",
    "We can then compute the new value of $N$ at time $t+\\Delta t$ as\n",
    "\n",
    "$$N(t+\\Delta t) = N(t) + \\Delta N = 10 + 1 = 9.\\tag{4}$$\n",
    "\n",
    "We can then take another step forward in time and repeat the process for as long as we would like. As the total time we'd like to integrate over becomes large, it becomes obvious why using a computer is a far more attractive approach than scribbling it by hand.\n",
    "\n",
    "A major point to be wary of is the instability of this method. The error in this scales with the square of our step size. We must choose a sufficiently small step in time such that at most only one computable event must occur. For example, if we are integrating exponential growth of bacterial cells, we don't want to take time steps larger than a cell division! This requirement is known as the Courant-Friedrichs-Lewy condition and is important for many different time-marching computer simulations.\n",
    "\n",
    "As is often the case, the best way to learn is to do. Let's give our digits some exercise and numerically integrate this exponential growth differential equation. "
   ]
  },
  {
   "cell_type": "markdown",
   "metadata": {},
   "source": [
    "# Numerically integrating exponential growth"
   ]
  },
  {
   "cell_type": "code",
   "execution_count": 1,
   "metadata": {},
   "outputs": [],
   "source": [
    "# Import the necessary modules\n",
    "import numpy as np\n",
    "import matplotlib.pyplot as plt\n",
    "%matplotlib inline\n",
    "\n",
    "# For pretty plots\n",
    "import seaborn as sns\n",
    "rc={'lines.linewidth': 2, 'axes.labelsize': 14, 'axes.titlesize': 14, \\\n",
    "    'xtick.labelsize' : 14, 'ytick.labelsize' : 14}\n",
    "sns.set(rc=rc)"
   ]
  },
  {
   "cell_type": "markdown",
   "metadata": {},
   "source": [
    "In order to numerically integrate Equation (1), we first need to specify a few parameters, such as the initial value of $N$, the growth rate $r$, and the time step $\\Delta t$."
   ]
  },
  {
   "cell_type": "code",
   "execution_count": 2,
   "metadata": {},
   "outputs": [],
   "source": [
    "# parameters for our ODE\n",
    "N_0 = 1\n",
    "r = 0.03 # min^-1\n",
    "\n",
    "# parameters for our integration\n",
    "dt = 0.1 # min\n",
    "total_time = 120 # min"
   ]
  },
  {
   "cell_type": "markdown",
   "metadata": {},
   "source": [
    "Now we can set up an array into which we can save our values of $N$ as they increase with time, with the first value in the `N_t` array being set to `N_0` as specified above."
   ]
  },
  {
   "cell_type": "code",
   "execution_count": 3,
   "metadata": {},
   "outputs": [],
   "source": [
    "# determine the number of steps that will be taken\n",
    "num_steps = int(total_time/dt)\n",
    "\n",
    "# initilize an array of length num_steps into which to store values of N\n",
    "N_t = np.zeros(num_steps)\n",
    "N_t[0] = N_0"
   ]
  },
  {
   "cell_type": "markdown",
   "metadata": {},
   "source": [
    "Now we can actually compute the numerical integration, by looping through the `N_t` array and filling in the values of `N` as we go. At each time point $N(t) = N(t-\\Delta t) + rN(t-\\Delta t) \\Delta t,$ where $t - \\Delta t$ refers to the previous entry in the `N_t` array."
   ]
  },
  {
   "cell_type": "code",
   "execution_count": 4,
   "metadata": {},
   "outputs": [],
   "source": [
    "# numerically integrate by looping through N_t\n",
    "for t in range(1,num_steps):\n",
    "    \n",
    "    # first calculate dN, using pevious N_t entry\n",
    "    dN = N_t[t-1] * r * dt\n",
    "    \n",
    "    # update current N_t entry\n",
    "    N_t[t] = N_t[t-1] + dN"
   ]
  },
  {
   "cell_type": "markdown",
   "metadata": {},
   "source": [
    "And done! The numerical integration of more than a thousand time steps just happened nearly instantly, showing the immense value of using code to automate computational processes. Let's now plot the results. We currently have the $N$ values to plot, we just need to specify the $t$ values as well. "
   ]
  },
  {
   "cell_type": "code",
   "execution_count": 5,
   "metadata": {},
   "outputs": [
    {
     "data": {
      "text/plain": [
       "Text(0,0.5,'N')"
      ]
     },
     "execution_count": 5,
     "metadata": {},
     "output_type": "execute_result"
    },
    {
     "data": {
      "image/png": "[encoded data removed]",
      "text/plain": [
       "<Figure size 432x288 with 1 Axes>"
      ]
     },
     "metadata": {},
     "output_type": "display_data"
    }
   ],
   "source": [
    "# make array of time values\n",
    "times = np.arange(num_steps)*dt\n",
    "\n",
    "# plot \n",
    "plt.plot(times,N_t)\n",
    "plt.xlabel(\"time (mins)\")\n",
    "plt.ylabel(\"N\")"
   ]
  },
  {
   "cell_type": "markdown",
   "metadata": {},
   "source": [
    "That certainly looks exponential! Let's plot the known solution of $N(t) = N_0 e^{rt}$ on top of our numerical integration for comparison. "
   ]
  },
  {
   "cell_type": "code",
   "execution_count": 6,
   "metadata": {},
   "outputs": [
    {
     "data": {
      "text/plain": [
       "<matplotlib.legend.Legend at 0x1a1a5d4470>"
      ]
     },
     "execution_count": 6,
     "metadata": {},
     "output_type": "execute_result"
    },
    {
     "data": {
      "image/png": "[encoded data removed]",
      "text/plain": [
       "<Figure size 432x288 with 1 Axes>"
      ]
     },
     "metadata": {},
     "output_type": "display_data"
    }
   ],
   "source": [
    "# compute the known solution\n",
    "soln = N_0 * np.exp(r*times)\n",
    "\n",
    "# plot both our integration and the known solution\n",
    "plt.plot(times,N_t)\n",
    "plt.plot(times,soln)\n",
    "plt.xlabel(\"time (mins)\")\n",
    "plt.ylabel(\"N\")\n",
    "plt.legend([\"numerical integration\", \"known solution\"])"
   ]
  },
  {
   "cell_type": "markdown",
   "metadata": {},
   "source": [
    "Nice! Our numerical integration and the known solution are so similar that the two lines can't be distinguished from each other in the plot above. Recall how we said that picking a sufficiently small $\\Delta t$ is necessary for numerical integration to work? From here, it's worth while to see how the plot above changes for different values of `dt`. As `dt` increases, our numerical integration deviates more and more from the known solution, with our integration systematically underestimating the true values. This is because with exponential growth, the rate of growth is always increasing and taking too large of a time step fails to capture this increase. "
   ]
  },
  {
   "cell_type": "code",
   "execution_count": null,
   "metadata": {},
   "outputs": [],
   "source": []
  }
 ],
 "metadata": {
  "kernelspec": {
   "display_name": "Python 3",
   "language": "python",
   "name": "python3"
  },
  "language_info": {
   "codemirror_mode": {
    "name": "ipython",
    "version": 3
   },
   "file_extension": ".py",
   "mimetype": "text/x-python",
   "name": "python",
   "nbconvert_exporter": "python",
   "pygments_lexer": "ipython3",
   "version": "3.6.6"
  }
 },
 "nbformat": 4,
 "nbformat_minor": 2
}
