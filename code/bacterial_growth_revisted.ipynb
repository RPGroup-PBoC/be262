{
 "cells": [
  {
   "cell_type": "markdown",
   "metadata": {},
   "source": [
    "© 2018 Suzy Beeler. This work is licensed under a [Creative Commons Attribution License CC-BY 4.0](https://creativecommons.org/licenses/by/4.0/). All code contained herein is licensed under an [MIT license](https://opensource.org/licenses/MIT) \n",
    "\n",
    "This exercise was generated from a Jupyter notebook. You can download the notebook [here](bacterial_growth_revisited.ipynb).\n",
    "___\n",
    "\n",
    "# Objective \n",
    "\n",
    "Now that we've learned a little about Bayesian inference, we will revisit the bacterial growth problem and learn how we can determine the posterior probability distribution for a parameter value (i.e. the growth rate) given our data. What makes Bayesian inference so powerful is that we won't just know the most likely growth rate as we did before, but we will now know the likelihood of a *range* of possible growth rates. "
   ]
  },
  {
   "cell_type": "markdown",
   "metadata": {},
   "source": [
    "# Revisiting the bacterial growth data"
   ]
  },
  {
   "cell_type": "code",
   "execution_count": 1,
   "metadata": {},
   "outputs": [],
   "source": [
    "# Import the necessary modules\n",
    "import numpy as np\n",
    "import matplotlib.pyplot as plt\n",
    "%matplotlib inline\n",
    "\n",
    "# For pretty plots\n",
    "import seaborn as sns\n",
    "rc={'lines.linewidth': 2, 'axes.labelsize': 14, 'axes.titlesize': 14, \\\n",
    "    'xtick.labelsize' : 14, 'ytick.labelsize' : 14}\n",
    "sns.set(rc=rc)\n",
    "\n",
    "# used for opening csv files and manipulating data spreadsheets\n",
    "import pandas as pd"
   ]
  },
  {
   "cell_type": "markdown",
   "metadata": {},
   "source": [
    "From the image analysis we previously did, we ultimately ended up with the area of bacteria over time, normalized such that the area was $1$ at $t=0$. Let's load in this data using `pandas`, an incredibly useful package that can be used to read in, manipulate, and create dataframes (i.e. spreadsheets)."
   ]
  },
  {
   "cell_type": "code",
   "execution_count": 2,
   "metadata": {},
   "outputs": [
    {
     "data": {
      "text/html": [
       "<div>\n",
       "<style scoped>\n",
       "    .dataframe tbody tr th:only-of-type {\n",
       "        vertical-align: middle;\n",
       "    }\n",
       "\n",
       "    .dataframe tbody tr th {\n",
       "        vertical-align: top;\n",
       "    }\n",
       "\n",
       "    .dataframe thead th {\n",
       "        text-align: right;\n",
       "    }\n",
       "</style>\n",
       "<table border=\"1\" class=\"dataframe\">\n",
       "  <thead>\n",
       "    <tr style=\"text-align: right;\">\n",
       "      <th></th>\n",
       "      <th>area</th>\n",
       "      <th>time(mins)</th>\n",
       "    </tr>\n",
       "  </thead>\n",
       "  <tbody>\n",
       "    <tr>\n",
       "      <th>0</th>\n",
       "      <td>1.000000</td>\n",
       "      <td>0</td>\n",
       "    </tr>\n",
       "    <tr>\n",
       "      <th>1</th>\n",
       "      <td>1.154062</td>\n",
       "      <td>5</td>\n",
       "    </tr>\n",
       "    <tr>\n",
       "      <th>2</th>\n",
       "      <td>1.408350</td>\n",
       "      <td>10</td>\n",
       "    </tr>\n",
       "    <tr>\n",
       "      <th>3</th>\n",
       "      <td>1.583774</td>\n",
       "      <td>15</td>\n",
       "    </tr>\n",
       "    <tr>\n",
       "      <th>4</th>\n",
       "      <td>1.946165</td>\n",
       "      <td>20</td>\n",
       "    </tr>\n",
       "    <tr>\n",
       "      <th>5</th>\n",
       "      <td>2.222030</td>\n",
       "      <td>25</td>\n",
       "    </tr>\n",
       "    <tr>\n",
       "      <th>6</th>\n",
       "      <td>2.800410</td>\n",
       "      <td>30</td>\n",
       "    </tr>\n",
       "    <tr>\n",
       "      <th>7</th>\n",
       "      <td>3.081454</td>\n",
       "      <td>35</td>\n",
       "    </tr>\n",
       "    <tr>\n",
       "      <th>8</th>\n",
       "      <td>3.830295</td>\n",
       "      <td>40</td>\n",
       "    </tr>\n",
       "    <tr>\n",
       "      <th>9</th>\n",
       "      <td>4.333154</td>\n",
       "      <td>45</td>\n",
       "    </tr>\n",
       "    <tr>\n",
       "      <th>10</th>\n",
       "      <td>5.098177</td>\n",
       "      <td>50</td>\n",
       "    </tr>\n",
       "    <tr>\n",
       "      <th>11</th>\n",
       "      <td>6.126551</td>\n",
       "      <td>55</td>\n",
       "    </tr>\n",
       "    <tr>\n",
       "      <th>12</th>\n",
       "      <td>7.228719</td>\n",
       "      <td>60</td>\n",
       "    </tr>\n",
       "    <tr>\n",
       "      <th>13</th>\n",
       "      <td>7.847664</td>\n",
       "      <td>65</td>\n",
       "    </tr>\n",
       "    <tr>\n",
       "      <th>14</th>\n",
       "      <td>9.613227</td>\n",
       "      <td>70</td>\n",
       "    </tr>\n",
       "    <tr>\n",
       "      <th>15</th>\n",
       "      <td>11.502751</td>\n",
       "      <td>75</td>\n",
       "    </tr>\n",
       "    <tr>\n",
       "      <th>16</th>\n",
       "      <td>13.463912</td>\n",
       "      <td>80</td>\n",
       "    </tr>\n",
       "    <tr>\n",
       "      <th>17</th>\n",
       "      <td>16.024814</td>\n",
       "      <td>85</td>\n",
       "    </tr>\n",
       "    <tr>\n",
       "      <th>18</th>\n",
       "      <td>18.361312</td>\n",
       "      <td>90</td>\n",
       "    </tr>\n",
       "    <tr>\n",
       "      <th>19</th>\n",
       "      <td>18.912396</td>\n",
       "      <td>95</td>\n",
       "    </tr>\n",
       "    <tr>\n",
       "      <th>20</th>\n",
       "      <td>23.988025</td>\n",
       "      <td>100</td>\n",
       "    </tr>\n",
       "  </tbody>\n",
       "</table>\n",
       "</div>"
      ],
      "text/plain": [
       "         area  time(mins)\n",
       "0    1.000000           0\n",
       "1    1.154062           5\n",
       "2    1.408350          10\n",
       "3    1.583774          15\n",
       "4    1.946165          20\n",
       "5    2.222030          25\n",
       "6    2.800410          30\n",
       "7    3.081454          35\n",
       "8    3.830295          40\n",
       "9    4.333154          45\n",
       "10   5.098177          50\n",
       "11   6.126551          55\n",
       "12   7.228719          60\n",
       "13   7.847664          65\n",
       "14   9.613227          70\n",
       "15  11.502751          75\n",
       "16  13.463912          80\n",
       "17  16.024814          85\n",
       "18  18.361312          90\n",
       "19  18.912396          95\n",
       "20  23.988025         100"
      ]
     },
     "execution_count": 2,
     "metadata": {},
     "output_type": "execute_result"
    }
   ],
   "source": [
    "# use pandas to read in the file into a dataframe\n",
    "dataframe = pd.read_csv(\"./data/normalized_bacterial_areas.csv\")\n",
    "\n",
    "# show the data\n",
    "dataframe"
   ]
  },
  {
   "cell_type": "markdown",
   "metadata": {},
   "source": [
    "We see that data is formatted in two columns, one with the normalized area, and one with the corresponding time in minutes. Let's re-plot the data to remind ourselves what it looks like."
   ]
  },
  {
   "cell_type": "code",
   "execution_count": 3,
   "metadata": {},
   "outputs": [
    {
     "data": {
      "text/plain": [
       "Text(0,0.5,'normalized area')"
      ]
     },
     "execution_count": 3,
     "metadata": {},
     "output_type": "execute_result"
    },
    {
     "data": {
      "image/png": "[encoded data removed]",
      "text/plain": [
       "<Figure size 432x288 with 1 Axes>"
      ]
     },
     "metadata": {},
     "output_type": "display_data"
    }
   ],
   "source": [
    "# extract the areas and times from the dataframe\n",
    "areas = dataframe[\"area\"]\n",
    "times = dataframe[\"time(mins)\"]\n",
    "\n",
    "# plot the data\n",
    "plt.plot(times, areas, '.')\n",
    "plt.xlabel(\"time (mins)\")\n",
    "plt.ylabel(\"normalized area\")"
   ]
  },
  {
   "cell_type": "markdown",
   "metadata": {},
   "source": [
    "Great! We still see an exponential growth curve. Now how do we go about using Bayesian inference to determine the probability of certain growth rates given the data that we have here?"
   ]
  },
  {
   "cell_type": "markdown",
   "metadata": {},
   "source": [
    "# A Bayesian approach to parameter estimation\n",
    "\n",
    "Recall that in a Bayesian framework, we are interested in quantifying the probability of our model *given* our data, or $P(M|D)$, where\n",
    "\n",
    "$$P(M|D) \\propto P(D|M)P(M).$$\n",
    "\n",
    "In order to optimize this posterior probability, we need to specify the prior, $P(M)$ and the likelihood, $P(D|M)$.\n",
    "\n",
    "## The prior\n",
    "\n",
    "The prior, $P(M)$, is supposed to reflect our best guess of the parameter value $\\lambda$ before the data was acquired. For the doubling time of bacteria, since we don't know anything about the growth conditions that were used, let's give generous bounds on the minimum and maximum possible doubling times, say $10$ mins to $1440$ mins (i.e. a day). As we showed [previously](bacterial_growth.ipynb), the doubling time $\\tau = \\frac{ln(2)}{\\lambda}$. This means doubling times of $10$ and $1440$ mins correspond to growth rates of $\\approx 0.07 \\ \\text{min}^{-1}$ and $\\approx 0.0005 \\  \\text{min}^{-1}$, respectively. For an uninformative prior, we will say that any growth rate in this range from $0.0005$ to $0.07 \\  \\text{min}^{-1}$ will be equally likely, and any growth rate outside of this range is not possible (i.e. has $0$ probability). Let's write a function `prior`, that will return the prior probability of a given growth rate, `lam`."
   ]
  },
  {
   "cell_type": "code",
   "execution_count": 4,
   "metadata": {},
   "outputs": [],
   "source": [
    "def prior(lam, lam_min=0.0005, lam_max=0.07):\n",
    "    \"\"\"\n",
    "    Returns the prior probability of a given growth rate, lam.\n",
    "    Uniform probability for all values of lam that lie between\n",
    "    lam_min and lam_max. \n",
    "    \"\"\"\n",
    "    # check that lam is within the bounds\n",
    "    if lam_min <= lam <= lam_max:\n",
    "        return 1\n",
    "    \n",
    "    # otherwise, the probability is 0\n",
    "    else:\n",
    "        return 0"
   ]
  },
  {
   "cell_type": "markdown",
   "metadata": {},
   "source": [
    "Let's plot the prior probability for a range of growth rates:"
   ]
  },
  {
   "cell_type": "code",
   "execution_count": 31,
   "metadata": {},
   "outputs": [
    {
     "data": {
      "text/plain": [
       "Text(0,0.5,'prior probability')"
      ]
     },
     "execution_count": 31,
     "metadata": {},
     "output_type": "execute_result"
    },
    {
     "data": {
      "image/png": "[encoded data removed]",
      "text/plain": [
       "<Figure size 432x288 with 1 Axes>"
      ]
     },
     "metadata": {},
     "output_type": "display_data"
    }
   ],
   "source": [
    "# specify lambdas from 10^-4 to 10^-1\n",
    "lams = np.logspace(-4,-1,100)\n",
    "\n",
    "# calculate prior probability for each lam in lams\n",
    "prior_prob = [prior(lam) for lam in lams] \n",
    "\n",
    "# plot \n",
    "plt.semilogx(lams, prior_prob, '.')\n",
    "plt.xlabel(\"growth rate (min$^{-1}$)\")\n",
    "plt.ylabel(\"prior probability\")"
   ]
  },
  {
   "cell_type": "markdown",
   "metadata": {},
   "source": [
    "[SMB note: this prior is not normalized, but this is okay since we are ultimately working with proportionalities rather than absolute values. An unnormalized prior doesn't change what the optimal parameter will be.]"
   ]
  },
  {
   "cell_type": "markdown",
   "metadata": {},
   "source": [
    "## The likelihood\n",
    "\n",
    "Now that we have specified the prior, we need to formulate the likelihood, $P(D|\\lambda)$. That is, for a given model (growth rate $\\lambda$ in our case), we need to determine how likely it would be to get our data. To illustrate what we are trying to get at here, let's plot several different models over our data."
   ]
  },
  {
   "cell_type": "code",
   "execution_count": 6,
   "metadata": {},
   "outputs": [
    {
     "data": {
      "text/plain": [
       "<matplotlib.legend.Legend at 0x1a23738128>"
      ]
     },
     "execution_count": 6,
     "metadata": {},
     "output_type": "execute_result"
    },
    {
     "data": {
      "image/png": "[encoded data removed]",
      "text/plain": [
       "<Figure size 432x288 with 1 Axes>"
      ]
     },
     "metadata": {},
     "output_type": "display_data"
    }
   ],
   "source": [
    "# plot the data\n",
    "plt.plot(times, areas, '.')\n",
    "\n",
    "# plot different models of growth by tuning lambda\n",
    "plt.plot(times, np.exp(0.032*times))\n",
    "plt.plot(times, np.exp(0.025*times))\n",
    "plt.plot(times, np.exp(0.035*times))\n",
    "\n",
    "# label plot\n",
    "plt.xlabel(\"time (mins)\")\n",
    "plt.ylabel(\"area\")\n",
    "plt.legend([\"data\",\"model 1\", \"model 2\", \"model 3\"])"
   ]
  },
  {
   "cell_type": "markdown",
   "metadata": {},
   "source": [
    "From the plot above, model 1 seems to fit the data better than models 2 and 3, and accordingly it seems that model 1 should be considered more *likely*. But how to we quantify this likelihood? If we assume the errors in our measurements to be normally distributed (not unreasonable given the central limit theorem), we can determine how likely a given parameter choice is by how much our data deviates from the resulting model. \n",
    "\n",
    "By the normal distribution, the probability of getting a given data point, $D_i$ at corresponding time $t_i$ is\n",
    "\n",
    "$$P(D_i | \\lambda, \\sigma) = \\frac{1}{\\sqrt{2\\pi\\sigma^2}} \\text{exp}\\ \\bigg\\{-\\frac{(D_i-e^{\\lambda t_i})^2}{2\\sigma^2}\\bigg\\},$$\n",
    "\n",
    "where we've introduced a new parameter $\\sigma$, which represents the spread of our errors. For our purposes, we aren't interested in estimating the actual value of $\\sigma$, although we could. This means we can marginalize out this $\\sigma$ by intergrating over all values of $\\sigma$. This means the likelihood of all of our data, $D$, is\n",
    "\n",
    "$$\n",
    "\\begin{align}\n",
    "P(D | \\lambda, \\sigma) &= \\prod_{i=1}^{N} \\frac{1}{\\sqrt{2\\pi\\sigma^2}} \\text{exp}\\ \\bigg\\{-\\frac{(D_i-e^{\\lambda t_i})^2}{2\\sigma^2}\\bigg\\}, \\\\\n",
    "P(D | \\lambda, \\sigma) &\\propto \\prod_{i=1}^{N} \\frac{1}{\\sigma} \\ \\text{exp}\\ \\bigg\\{-\\frac{(D_i-e^{\\lambda t_i})^2}{2\\sigma^2}\\bigg\\}, \\\\\n",
    "P(D | \\lambda) &\\propto \\int_{0}^{\\inf} d\\sigma \\prod_{i=1}^{N} \\frac{1}{\\sigma} \\ \\text{exp}\\ \\bigg\\{-\\frac{(D_i-e^{\\lambda t_i})^2}{2\\sigma^2}\\bigg\\}, \\\\\n",
    "P(D | \\lambda) &\\propto \\Bigg[ \\sum_{i=1}^{N} (D_i-e^{\\lambda t_i})^2 \\Bigg]^{-\\frac{N}{2}}.\n",
    "\\end{align}\n",
    "$$ \n",
    "\n",
    "[SMB note: This is what has been giving me so much trouble. I don't have a great handle on this, unfortunately.]"
   ]
  },
  {
   "cell_type": "code",
   "execution_count": 7,
   "metadata": {},
   "outputs": [],
   "source": [
    "def likelihood(D, times, lam):\n",
    "    \"\"\"\n",
    "    Returns the likelihood of the data, D, given the growth rate, lam.\n",
    "    \"\"\"\n",
    "    # N is the number of data points\n",
    "    N = len(D)\n",
    "    \n",
    "    # get the theory curve for the given lam\n",
    "    D_theory = np.exp(lam*times)\n",
    "    \n",
    "    # get the residuals\n",
    "    residuals = D - D_theory\n",
    "    \n",
    "    # calculate the total likelihood and return\n",
    "    likelihood = sum(residuals**2)**(-N/2) \n",
    "    return likelihood"
   ]
  },
  {
   "cell_type": "markdown",
   "metadata": {},
   "source": [
    "Now we can bring the prior and likelihood together to get the posterior probability. "
   ]
  },
  {
   "cell_type": "code",
   "execution_count": 10,
   "metadata": {},
   "outputs": [],
   "source": [
    "def posterior(D, times, lam):\n",
    "    \"\"\"\n",
    "    Returns the posterior probability, by simply calling the prior\n",
    "    and likelihood functions we've written\n",
    "    \"\"\"\n",
    "    prior_prob = prior(lam)\n",
    "    likelihood_prob = likelihood(D, times,lam)\n",
    "    return prior_prob*likelihood_prob"
   ]
  },
  {
   "cell_type": "markdown",
   "metadata": {},
   "source": [
    "Now, we are are finally ready for the moment of truth. Let's see what our posterior probability looks like for a range of possible $\\lambda$s."
   ]
  },
  {
   "cell_type": "code",
   "execution_count": 32,
   "metadata": {},
   "outputs": [
    {
     "data": {
      "text/plain": [
       "Text(0,0.5,'posterior probability')"
      ]
     },
     "execution_count": 32,
     "metadata": {},
     "output_type": "execute_result"
    },
    {
     "data": {
      "image/png": "[encoded data removed]",
      "text/plain": [
       "<Figure size 432x288 with 1 Axes>"
      ]
     },
     "metadata": {},
     "output_type": "display_data"
    }
   ],
   "source": [
    "# a little guess and check to narrow down on this region of lambda\n",
    "lams = np.linspace(0.03,0.035,1000)\n",
    "\n",
    "# calculate posterior probability for each lam in lams\n",
    "posterior_prob = [posterior(areas,times,lam) for lam in lams] \n",
    "\n",
    "# plot \n",
    "plt.plot(lams, posterior_prob, '.')\n",
    "plt.xlabel(\"growth rate (min$^{-1}$)\")\n",
    "plt.ylabel(\"posterior probability\")"
   ]
  },
  {
   "cell_type": "markdown",
   "metadata": {},
   "source": [
    "We see that only a fairly narrow range of values for $\\lambda$ yield a high posterior probability. To clean this plot up a bit, let's normalize the probability to sum to $1$, and convert growth rate to doubling time, which I find a little more intuitive to think about. "
   ]
  },
  {
   "cell_type": "code",
   "execution_count": 49,
   "metadata": {},
   "outputs": [
    {
     "data": {
      "text/plain": [
       "Text(0,0.5,'posterior probability')"
      ]
     },
     "execution_count": 49,
     "metadata": {},
     "output_type": "execute_result"
    },
    {
     "data": {
      "image/png": "[encoded data removed]",
      "text/plain": [
       "<Figure size 432x288 with 1 Axes>"
      ]
     },
     "metadata": {},
     "output_type": "display_data"
    }
   ],
   "source": [
    "# normalize the probability \n",
    "normed_post = np.array(posterior_prob) / sum(posterior_prob)\n",
    "\n",
    "# convert lambdas to doubling times\n",
    "taus = np.log(2)/lams \n",
    "\n",
    "# plot \n",
    "plt.plot(taus, normed_post, '.')\n",
    "plt.xlabel(\"doubling time (min)\")\n",
    "plt.ylabel(\"posterior probability\")"
   ]
  },
  {
   "cell_type": "markdown",
   "metadata": {},
   "source": [
    "We see that the optimal doubling time is between `21` and `22` minutes. Furthermore, from having taking a Bayesian inference approach, we see that the probability of any other doubling time drops of quickly as you deviated from the optimum. "
   ]
  },
  {
   "cell_type": "code",
   "execution_count": null,
   "metadata": {},
   "outputs": [],
   "source": []
  }
 ],
 "metadata": {
  "kernelspec": {
   "display_name": "Python 3",
   "language": "python",
   "name": "python3"
  },
  "language_info": {
   "codemirror_mode": {
    "name": "ipython",
    "version": 3
   },
   "file_extension": ".py",
   "mimetype": "text/x-python",
   "name": "python",
   "nbconvert_exporter": "python",
   "pygments_lexer": "ipython3",
   "version": "3.6.6"
  }
 },
 "nbformat": 4,
 "nbformat_minor": 2
}
