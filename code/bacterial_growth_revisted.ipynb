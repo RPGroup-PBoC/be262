{
 "cells": [
  {
   "cell_type": "markdown",
   "metadata": {},
   "source": [
    "© 2018 Suzy Beeler. This work is licensed under a [Creative Commons Attribution License CC-BY 4.0](https://creativecommons.org/licenses/by/4.0/). All code contained herein is licensed under an [MIT license](https://opensource.org/licenses/MIT) \n",
    "\n",
    "This exercise was generated from a Jupyter notebook. You can download the notebook [here](bacterial_growth_revisited.ipynb).\n",
    "___\n",
    "\n",
    "# Objective \n",
    "\n",
    "Now that we've learned a little about Bayesian inference, we will revisit the bacterial growth problem and learn how we can determine the posterior probability distribution for a parameter value (i.e. the growth rate) given our data. What makes Bayesian inference so powerful is that we won't just know the most likely growth rate as we did before, but we will now know the likelihood of a *range* of possible growth rates. "
   ]
  },
  {
   "cell_type": "markdown",
   "metadata": {},
   "source": [
    "# Revisiting the bacterial growth data"
   ]
  },
  {
   "cell_type": "code",
   "execution_count": 1,
   "metadata": {},
   "outputs": [],
   "source": [
    "# Import the necessary modules\n",
    "import numpy as np\n",
    "import matplotlib.pyplot as plt\n",
    "%matplotlib inline\n",
    "\n",
    "# For pretty plots\n",
    "import seaborn as sns\n",
    "rc={'lines.linewidth': 2, 'axes.labelsize': 14, 'axes.titlesize': 14, \\\n",
    "    'xtick.labelsize' : 14, 'ytick.labelsize' : 14}\n",
    "sns.set(rc=rc)\n",
    "\n",
    "# used for opening csv files and manipulating data spreadsheets\n",
    "import pandas as pd"
   ]
  },
  {
   "cell_type": "markdown",
   "metadata": {},
   "source": [
    "From the image analysis we previously did, we ultimately ended up with the area of bacteria over time, normalized such that the area was $1$ at $t=0$. Let's load in this data using `pandas`, an incredibly useful package that can be used to read in, manipulate, and create dataframes (i.e. spreadsheets)."
   ]
  },
  {
   "cell_type": "code",
   "execution_count": 2,
   "metadata": {},
   "outputs": [
    {
     "data": {
      "text/html": [
       "<div>\n",
       "<style scoped>\n",
       "    .dataframe tbody tr th:only-of-type {\n",
       "        vertical-align: middle;\n",
       "    }\n",
       "\n",
       "    .dataframe tbody tr th {\n",
       "        vertical-align: top;\n",
       "    }\n",
       "\n",
       "    .dataframe thead th {\n",
       "        text-align: right;\n",
       "    }\n",
       "</style>\n",
       "<table border=\"1\" class=\"dataframe\">\n",
       "  <thead>\n",
       "    <tr style=\"text-align: right;\">\n",
       "      <th></th>\n",
       "      <th>area</th>\n",
       "      <th>time(mins)</th>\n",
       "    </tr>\n",
       "  </thead>\n",
       "  <tbody>\n",
       "    <tr>\n",
       "      <th>0</th>\n",
       "      <td>1.000000</td>\n",
       "      <td>0</td>\n",
       "    </tr>\n",
       "    <tr>\n",
       "      <th>1</th>\n",
       "      <td>1.154062</td>\n",
       "      <td>5</td>\n",
       "    </tr>\n",
       "    <tr>\n",
       "      <th>2</th>\n",
       "      <td>1.408350</td>\n",
       "      <td>10</td>\n",
       "    </tr>\n",
       "    <tr>\n",
       "      <th>3</th>\n",
       "      <td>1.583774</td>\n",
       "      <td>15</td>\n",
       "    </tr>\n",
       "    <tr>\n",
       "      <th>4</th>\n",
       "      <td>1.946165</td>\n",
       "      <td>20</td>\n",
       "    </tr>\n",
       "    <tr>\n",
       "      <th>5</th>\n",
       "      <td>2.222030</td>\n",
       "      <td>25</td>\n",
       "    </tr>\n",
       "    <tr>\n",
       "      <th>6</th>\n",
       "      <td>2.800410</td>\n",
       "      <td>30</td>\n",
       "    </tr>\n",
       "    <tr>\n",
       "      <th>7</th>\n",
       "      <td>3.081454</td>\n",
       "      <td>35</td>\n",
       "    </tr>\n",
       "    <tr>\n",
       "      <th>8</th>\n",
       "      <td>3.830295</td>\n",
       "      <td>40</td>\n",
       "    </tr>\n",
       "    <tr>\n",
       "      <th>9</th>\n",
       "      <td>4.333154</td>\n",
       "      <td>45</td>\n",
       "    </tr>\n",
       "    <tr>\n",
       "      <th>10</th>\n",
       "      <td>5.098177</td>\n",
       "      <td>50</td>\n",
       "    </tr>\n",
       "    <tr>\n",
       "      <th>11</th>\n",
       "      <td>6.126551</td>\n",
       "      <td>55</td>\n",
       "    </tr>\n",
       "    <tr>\n",
       "      <th>12</th>\n",
       "      <td>7.228719</td>\n",
       "      <td>60</td>\n",
       "    </tr>\n",
       "    <tr>\n",
       "      <th>13</th>\n",
       "      <td>7.847664</td>\n",
       "      <td>65</td>\n",
       "    </tr>\n",
       "    <tr>\n",
       "      <th>14</th>\n",
       "      <td>9.613227</td>\n",
       "      <td>70</td>\n",
       "    </tr>\n",
       "    <tr>\n",
       "      <th>15</th>\n",
       "      <td>11.502751</td>\n",
       "      <td>75</td>\n",
       "    </tr>\n",
       "    <tr>\n",
       "      <th>16</th>\n",
       "      <td>13.463912</td>\n",
       "      <td>80</td>\n",
       "    </tr>\n",
       "    <tr>\n",
       "      <th>17</th>\n",
       "      <td>16.024814</td>\n",
       "      <td>85</td>\n",
       "    </tr>\n",
       "    <tr>\n",
       "      <th>18</th>\n",
       "      <td>18.361312</td>\n",
       "      <td>90</td>\n",
       "    </tr>\n",
       "    <tr>\n",
       "      <th>19</th>\n",
       "      <td>18.912396</td>\n",
       "      <td>95</td>\n",
       "    </tr>\n",
       "    <tr>\n",
       "      <th>20</th>\n",
       "      <td>23.988025</td>\n",
       "      <td>100</td>\n",
       "    </tr>\n",
       "  </tbody>\n",
       "</table>\n",
       "</div>"
      ],
      "text/plain": [
       "         area  time(mins)\n",
       "0    1.000000           0\n",
       "1    1.154062           5\n",
       "2    1.408350          10\n",
       "3    1.583774          15\n",
       "4    1.946165          20\n",
       "5    2.222030          25\n",
       "6    2.800410          30\n",
       "7    3.081454          35\n",
       "8    3.830295          40\n",
       "9    4.333154          45\n",
       "10   5.098177          50\n",
       "11   6.126551          55\n",
       "12   7.228719          60\n",
       "13   7.847664          65\n",
       "14   9.613227          70\n",
       "15  11.502751          75\n",
       "16  13.463912          80\n",
       "17  16.024814          85\n",
       "18  18.361312          90\n",
       "19  18.912396          95\n",
       "20  23.988025         100"
      ]
     },
     "execution_count": 2,
     "metadata": {},
     "output_type": "execute_result"
    }
   ],
   "source": [
    "# use pandas to read in the file into a dataframe\n",
    "dataframe = pd.read_csv(\"./data/normalized_bacterial_areas.csv\")\n",
    "\n",
    "# show the data\n",
    "dataframe"
   ]
  },
  {
   "cell_type": "markdown",
   "metadata": {},
   "source": [
    "We see that data is formatted in two columns, one with the normalized area, and one with the corresponding time in minutes. Let's re-plot the data to remind ourselves what it looks like."
   ]
  },
  {
   "cell_type": "code",
   "execution_count": 3,
   "metadata": {},
   "outputs": [
    {
     "data": {
      "text/plain": [
       "Text(0,0.5,'normalized area')"
      ]
     },
     "execution_count": 3,
     "metadata": {},
     "output_type": "execute_result"
    },
    {
     "data": {
      "image/png": "[encoded data removed]",
      "text/plain": [
       "<Figure size 432x288 with 1 Axes>"
      ]
     },
     "metadata": {},
     "output_type": "display_data"
    }
   ],
   "source": [
    "# extract the areas and times from the dataframe\n",
    "areas = dataframe[\"area\"]\n",
    "times = dataframe[\"time(mins)\"]\n",
    "\n",
    "# plot the data\n",
    "plt.plot(times, areas, '.')\n",
    "plt.xlabel(\"time (mins)\")\n",
    "plt.ylabel(\"normalized area\")"
   ]
  },
  {
   "cell_type": "markdown",
   "metadata": {},
   "source": [
    "Great! We still see an exponential growth curve. Now how do we go about using Bayesian inference to determine the probability of certain growth rates given the data that we have here?"
   ]
  },
  {
   "cell_type": "markdown",
   "metadata": {},
   "source": [
    "# A Bayesian approach to parameter estimation\n",
    "\n",
    "Recall that in a Bayesian framework, we are interested in quantifying the probability of our model *given* our data, or $P(M|D)$, where\n",
    "\n",
    "$$P(M|D) \\propto P(D|M)P(M).$$\n",
    "\n",
    "In order to optimize this posterior probability, we need to specify the prior, $P(M)$ and the likelihood, $P(D|M)$.\n",
    "\n",
    "## The prior\n",
    "\n",
    "The prior, $P(M)$, is supposed to reflect our best guess of the parameter value $\\lambda$ before the data was acquired. For the doubling time of bacteria, since we don't know anything about the growth conditions that were used, let's give generous bounds on the minimum and maximum possible doubling times, say $10$ mins to $1440$ mins (i.e. a day). As we showed [previously](bacterial_growth.ipynb), the doubling time $\\tau = \\frac{ln(2)}{\\lambda}$. This means doubling times of $10$ and $1440$ mins correspond to growth rates of $\\approx 0.07 \\ \\text{min}^{-1}$ and $\\approx 0.0005 \\  \\text{min}^{-1}$, respectively. For an uninformative prior, we will say that any growth rate in this range from $0.0005$ to $0.07 \\  \\text{min}^{-1}$ will be equally likely, and any growth rate outside of this range is not possible (i.e. has $0$ probability). Let's write a function `prior`, that will return the prior probability of a given growth rate, `lam`."
   ]
  },
  {
   "cell_type": "code",
   "execution_count": 4,
   "metadata": {},
   "outputs": [],
   "source": [
    "def prior(lam, lam_min=0.0005, lam_max=0.07):\n",
    "    \"\"\"\n",
    "    Returns the prior probability of a given growth rate, lam.\n",
    "    Uniform probability for all values of lam that lie between\n",
    "    lam_min and lam_max. \n",
    "    \"\"\"\n",
    "    # check that lam is within the bounds\n",
    "    if lam_min <= lam <= lam_max:\n",
    "        return 1\n",
    "    \n",
    "    # otherwise, the probability is 0\n",
    "    else:\n",
    "        return 0"
   ]
  },
  {
   "cell_type": "markdown",
   "metadata": {},
   "source": [
    "Let's plot the prior probability for a range of growth rates:"
   ]
  },
  {
   "cell_type": "code",
   "execution_count": 5,
   "metadata": {},
   "outputs": [
    {
     "data": {
      "text/plain": [
       "Text(0,0.5,'prior probability')"
      ]
     },
     "execution_count": 5,
     "metadata": {},
     "output_type": "execute_result"
    },
    {
     "data": {
      "image/png": "[encoded data removed]",
      "text/plain": [
       "<Figure size 432x288 with 1 Axes>"
      ]
     },
     "metadata": {},
     "output_type": "display_data"
    }
   ],
   "source": [
    "# specify lambdas from 10^-4 to 10^-1\n",
    "lams = np.logspace(-4,-1,100)\n",
    "\n",
    "# calculate prior probability for each lam in lams\n",
    "prior_prob = [prior(lam) for lam in lams] \n",
    "\n",
    "# plot \n",
    "plt.semilogx(lams, prior_prob, '.')\n",
    "plt.xlabel(\"growth rate (min$^{-1}$)\")\n",
    "plt.ylabel(\"prior probability\")"
   ]
  },
  {
   "cell_type": "markdown",
   "metadata": {},
   "source": [
    "[SMB note: this prior is not normalized, but this is okay since we are ultimately working with proportionalities rather than absolute values. An unnormalized prior doesn't change what the optimal parameter will be.]"
   ]
  },
  {
   "cell_type": "markdown",
   "metadata": {},
   "source": [
    "## The likelihood\n",
    "\n",
    "Now that we have specified the prior, we need to formulate the likelihood, $P(D|\\lambda)$. That is, for a given model (growth rate $\\lambda$ in our case), we need to determine how likely it would be to get our data. To illustrate what we are trying to get at here, let's plot several different models over our data."
   ]
  },
  {
   "cell_type": "code",
   "execution_count": 6,
   "metadata": {},
   "outputs": [
    {
     "data": {
      "text/plain": [
       "<matplotlib.legend.Legend at 0x1a245f3630>"
      ]
     },
     "execution_count": 6,
     "metadata": {},
     "output_type": "execute_result"
    },
    {
     "data": {
      "image/png": "[encoded data removed]",
      "text/plain": [
       "<Figure size 432x288 with 1 Axes>"
      ]
     },
     "metadata": {},
     "output_type": "display_data"
    }
   ],
   "source": [
    "# plot the data\n",
    "plt.plot(times, areas, '.')\n",
    "\n",
    "# plot different models of growth by tuning lambda\n",
    "plt.plot(times, np.exp(0.032*times))\n",
    "plt.plot(times, np.exp(0.025*times))\n",
    "plt.plot(times, np.exp(0.035*times))\n",
    "\n",
    "# label plot\n",
    "plt.xlabel(\"time (mins)\")\n",
    "plt.ylabel(\"area\")\n",
    "plt.legend([\"data\",\"model 1\", \"model 2\", \"model 3\"])"
   ]
  },
  {
   "cell_type": "markdown",
   "metadata": {},
   "source": [
    "From the plot above, model 1 seems to fit the data better than models 2 and 3, and accordingly it seems that model 1 should be considered more *likely*. But how to we quantify this likelihood? If we assume the errors in our measurements to be normally distributed (not unreasonable given the central limit theorem), we can determine how likely a given parameter choice is by how much our data deviates from the resulting model. \n",
    "\n",
    "By the normal distribution, the probability of getting a given data point, $D_i$ at corresponding time $t_i$ is\n",
    "\n",
    "$$P(D_i | \\lambda, \\sigma) = \\frac{1}{\\sqrt{2\\pi\\sigma^2}} \\text{exp}\\ \\bigg\\{-\\frac{(D_i-e^{\\lambda t_i})^2}{2\\sigma^2}\\bigg\\},$$\n",
    "\n",
    "where we've introduced a new parameter $\\sigma$, which represents the spread of our errors. For our purposes, we aren't interested in estimating the actual value of $\\sigma$, although we could. This means we can marginalize out this $\\sigma$ by integrating over all values of $\\sigma$. This means the likelihood of all of our data, $D$, is\n",
    "\n",
    "$$\n",
    "\\begin{align}\n",
    "P(D | \\lambda, \\sigma) &= \\prod_{i=1}^{N} \\frac{1}{\\sqrt{2\\pi\\sigma^2}} \\text{exp}\\ \\bigg\\{-\\frac{(D_i-e^{\\lambda t_i})^2}{2\\sigma^2}\\bigg\\}, \\\\\n",
    "P(D | \\lambda, \\sigma) &\\propto \\prod_{i=1}^{N} \\frac{1}{\\sigma} \\ \\text{exp}\\ \\bigg\\{-\\frac{(D_i-e^{\\lambda t_i})^2}{2\\sigma^2}\\bigg\\}, \\\\\n",
    "P(D | \\lambda) &\\propto \\int_{0}^{\\infty} d\\sigma \\prod_{i=1}^{N} \\frac{1}{\\sigma} \\ \\text{exp}\\ \\bigg\\{-\\frac{(D_i-e^{\\lambda t_i})^2}{2\\sigma^2}\\bigg\\}, \\\\\n",
    "P(D | \\lambda) &\\propto \\Bigg[ \\sum_{i=1}^{N} (D_i-e^{\\lambda t_i})^2 \\Bigg]^{-\\frac{N-1}{2}}.\n",
    "\\end{align}\n",
    "$$ \n",
    "\n",
    "[SMB note: This is what has been giving me so much trouble. I don't have a great handle on how to discuss this, unfortunately.]"
   ]
  },
  {
   "cell_type": "code",
   "execution_count": 7,
   "metadata": {},
   "outputs": [],
   "source": [
    "def likelihood(D, times, lam):\n",
    "    \"\"\"\n",
    "    Returns the likelihood of the data, D, given the growth rate, lam.\n",
    "    \"\"\"\n",
    "    # N is the number of data points\n",
    "    N = len(D)\n",
    "    \n",
    "    # get the theory curve for the given lam\n",
    "    D_theory = np.exp(lam*times)\n",
    "    \n",
    "    # get the residuals\n",
    "    residuals = D - D_theory\n",
    "    \n",
    "    # calculate the total likelihood and return\n",
    "    likelihood = sum(residuals**2)**(-(N-1)/2) \n",
    "    return likelihood"
   ]
  },
  {
   "cell_type": "markdown",
   "metadata": {},
   "source": [
    "# The posterior\n",
    "\n",
    "Now we can bring the prior and likelihood together to get the posterior probability. "
   ]
  },
  {
   "cell_type": "code",
   "execution_count": 8,
   "metadata": {},
   "outputs": [],
   "source": [
    "def posterior(D, times, lam):\n",
    "    \"\"\"\n",
    "    Returns the posterior probability, by simply calling the prior\n",
    "    and likelihood functions we've written\n",
    "    \"\"\"\n",
    "    prior_prob = prior(lam)\n",
    "    likelihood_prob = likelihood(D, times,lam)\n",
    "    return prior_prob*likelihood_prob"
   ]
  },
  {
   "cell_type": "markdown",
   "metadata": {},
   "source": [
    "Now, we are are finally ready for the moment of truth. Let's see what our posterior probability looks like for a range of possible $\\lambda$s."
   ]
  },
  {
   "cell_type": "code",
   "execution_count": 9,
   "metadata": {},
   "outputs": [
    {
     "data": {
      "text/plain": [
       "Text(0,0.5,'posterior probability')"
      ]
     },
     "execution_count": 9,
     "metadata": {},
     "output_type": "execute_result"
    },
    {
     "data": {
      "image/png": "[encoded data removed]",
      "text/plain": [
       "<Figure size 432x288 with 1 Axes>"
      ]
     },
     "metadata": {},
     "output_type": "display_data"
    }
   ],
   "source": [
    "# a little guess and check to narrow down on this region of lambda\n",
    "lams = np.linspace(0.03,0.035,1000)\n",
    "\n",
    "# calculate posterior probability for each lam in lams\n",
    "posterior_prob = [posterior(areas,times,lam) for lam in lams] \n",
    "\n",
    "# plot \n",
    "plt.plot(lams, posterior_prob, '.')\n",
    "plt.xlabel(\"growth rate (min$^{-1}$)\")\n",
    "plt.ylabel(\"posterior probability\")"
   ]
  },
  {
   "cell_type": "markdown",
   "metadata": {},
   "source": [
    "We see that only a fairly narrow range of values for $\\lambda$ yield a high posterior probability. To clean this plot up a bit, let's normalize the probability to sum to $1$, and convert growth rate to doubling time, which I find a little more intuitive to think about. "
   ]
  },
  {
   "cell_type": "code",
   "execution_count": 10,
   "metadata": {},
   "outputs": [
    {
     "data": {
      "text/plain": [
       "Text(0,0.5,'posterior probability')"
      ]
     },
     "execution_count": 10,
     "metadata": {},
     "output_type": "execute_result"
    },
    {
     "data": {
      "image/png": "[encoded data removed]",
      "text/plain": [
       "<Figure size 432x288 with 1 Axes>"
      ]
     },
     "metadata": {},
     "output_type": "display_data"
    }
   ],
   "source": [
    "# normalize the probability \n",
    "normed_post = np.array(posterior_prob) / sum(posterior_prob)\n",
    "\n",
    "# convert lambdas to doubling times\n",
    "taus = np.log(2)/lams \n",
    "\n",
    "# plot \n",
    "plt.plot(taus, normed_post, '.')\n",
    "plt.xlabel(\"doubling time (min)\")\n",
    "plt.ylabel(\"posterior probability\")"
   ]
  },
  {
   "cell_type": "markdown",
   "metadata": {},
   "source": [
    "We see that the optimal doubling time is between `21` and `22` minutes, same as before. Furthermore, from having taking a Bayesian inference approach, we see that the probability of any other doubling time drops of quickly as you deviate from the optimum. "
   ]
  },
  {
   "cell_type": "code",
   "execution_count": 23,
   "metadata": {},
   "outputs": [
    {
     "data": {
      "text/plain": [
       "(array([[0.0307495 , 1.10555752, 0.42336829],\n",
       "        [0.03122732, 1.05258276, 0.4957711 ],\n",
       "        [0.02989883, 1.18547259, 0.44083955],\n",
       "        [0.0315624 , 1.01985461, 0.39924339],\n",
       "        [0.03067141, 1.12137929, 0.46172891],\n",
       "        [0.0309043 , 1.10765596, 0.63341817],\n",
       "        [0.03090542, 1.09217697, 0.4512162 ],\n",
       "        [0.03007539, 1.17320765, 0.45205919],\n",
       "        [0.030944  , 1.09185718, 0.40613279],\n",
       "        [0.03118845, 1.04721151, 0.3972527 ],\n",
       "        [0.03090805, 1.10732406, 0.40637757],\n",
       "        [0.03051196, 1.11630979, 0.51517706],\n",
       "        [0.03031506, 1.16178787, 0.40845034],\n",
       "        [0.0309048 , 1.08002107, 0.49043194],\n",
       "        [0.03067602, 1.12868307, 0.45320991],\n",
       "        [0.03159487, 1.04341518, 0.46189654],\n",
       "        [0.03112586, 1.06845969, 0.40900522],\n",
       "        [0.03022563, 1.15307431, 0.41483224],\n",
       "        [0.03043816, 1.12512852, 0.37255318],\n",
       "        [0.03036001, 1.15983939, 0.37797668]]),\n",
       " array([-11.10531749, -12.64176331, -12.52869913, -14.04277068,\n",
       "        -11.52775353, -17.481641  , -11.26327517, -12.02410261,\n",
       "        -11.36281385, -14.15947367, -12.49615795, -13.10572652,\n",
       "        -12.20941045, -12.43257127, -12.13833922, -13.45472954,\n",
       "        -11.64927611, -11.66659078, -12.79264444, -13.08759186]),\n",
       " ('MT19937', array([2804736077, 2934317808, 2735429112,  132915171, 1584251150,\n",
       "         3085448764, 1050232493, 3723803899, 2039895078, 1203966958,\n",
       "         4034330776, 3891082440,  522371430, 1196878510, 2003457845,\n",
       "         4027301120, 1238929161, 1681980560, 3584984204, 2193339661,\n",
       "         2813172422, 4249600828,   17029389, 4099910431, 4167551899,\n",
       "         2743668056, 3300571433, 1164275578,  218480709, 3239076826,\n",
       "         3158954417,  963067249, 2342221106,  537003147, 1811004241,\n",
       "          180496969, 2020496173,  661238995, 3207332770,  587438633,\n",
       "         4289498319, 1777944456, 2120677652, 3018388578, 2768381875,\n",
       "          596230928, 1346847150, 1043010287, 1144363319, 2459032259,\n",
       "         1864671154,  408486631, 3176203653,  412444527,  894264716,\n",
       "         1123332971, 3938393068, 2962629486, 3296105825, 3663608318,\n",
       "         3743160517, 2509264318, 3316245394,  683151558, 3077182570,\n",
       "         1074008471, 3861972753,  123653881, 1505875956, 1660971827,\n",
       "          709994579, 3702881876, 1108698006, 2921912662, 3874266825,\n",
       "         4148793739, 3798030426,  610400353, 3487394731, 3239930698,\n",
       "         3109686961, 1847356932, 2774189269, 1060778006, 4154039219,\n",
       "          291539980, 1622899153, 4122727698, 3741176687,  106485546,\n",
       "         2249761723, 2800014410, 2007238915, 2770621885, 1864463255,\n",
       "         4204899038, 3633137312, 1410631297, 2181343471, 1016467099,\n",
       "         2100461338, 1198410361, 2353546022,  543057190, 2289307626,\n",
       "         3142309900, 1725031520, 3720602715, 2022013805, 2058089870,\n",
       "         1545330343, 3861907008, 3226021666, 2590390183, 3541260818,\n",
       "          327143254, 2921511110, 2975744082, 3380547352, 1448113808,\n",
       "         2678412138, 2333302787, 1085805892, 4183091326, 1163898521,\n",
       "          606838055,  674120225, 3893913368, 3018978291, 2244828827,\n",
       "         2656122946,  219258396, 1090729411, 1233126177, 2875757172,\n",
       "          703973491,   31234953, 3159332525, 3998845787, 1368582706,\n",
       "          140801637, 1737582258, 4071567473,  320905522,  698722205,\n",
       "         1474488603, 3334631428,  146852430, 1865305308,  219022457,\n",
       "         2940146620, 3475023265, 3535833945,  341007523, 2173233349,\n",
       "         2844239391,  550643013, 3134672372, 3457856566, 3418631752,\n",
       "           79277847, 2649628659,  952216687,  218667898,  507695181,\n",
       "             351391,  206813057, 2523572472, 1456172135, 3071968969,\n",
       "         4214614327, 2927017159,  261548618, 1024007153,  215507096,\n",
       "         2651007465,  172602308, 2396351680, 3057035729, 1677357835,\n",
       "         1577018251, 2268246779,    3165467, 4048042861, 1410252618,\n",
       "         2632248344, 1325841740, 2041442093, 1542799912, 1257652683,\n",
       "         2871724944, 2795517966,  713951102, 3303910010, 3707021142,\n",
       "         3417952113, 3237987742, 3997007401, 3649161082, 3204469391,\n",
       "         3270674769, 3910201962, 2847622432, 3336251286, 4278707271,\n",
       "         1007056793, 3821400578,  895047966, 1014570573, 3056933959,\n",
       "         2987540072,  489119649, 2548331744, 3603266987,  883638304,\n",
       "          396719932, 3891829568, 4259677387, 1687374584, 1271520442,\n",
       "           82908196, 4015624265, 3503165618, 1548744854, 3672014113,\n",
       "         4249498420, 1630055960,  972123162, 2376807377, 2518665346,\n",
       "         3279034730,  232600882, 3914717407, 1087628716, 1347295819,\n",
       "          707970366, 4168425512,  860254355, 1451751981,  661026102,\n",
       "         2453959329, 3221588544, 2277184938, 1971028926, 2456132183,\n",
       "         3655761408, 1579877054, 3204986476, 1698262374, 2957154311,\n",
       "         2730825278, 3099383551, 2653835662,  696562431, 2256377625,\n",
       "         3990579070, 1660943658,  790547481, 1364327797,  463793857,\n",
       "         2940376481, 1815300677, 2794245850,  124814057, 1376366435,\n",
       "          866950029, 3279236298, 3855465472, 2817200562, 3435711279,\n",
       "         3385133319,  790977997, 2715787933, 2525492019,  420603583,\n",
       "         3775340338,  641406220, 2953352575, 2167294968,  597656626,\n",
       "         2632373552, 1584983730,  150824299, 1223135476, 1459003896,\n",
       "         4143828125, 3757797391, 1278897475, 4032228600, 3203445729,\n",
       "         2005840020,  659468766, 4009442899, 4251536303, 2819061323,\n",
       "         1737319389, 1642715106,  194367699, 1621890407, 1275761132,\n",
       "         3138396778,   10409106,  839722501, 3728704903,  924222652,\n",
       "         3408196716,  412754046, 2997051529, 3160973960,  917100575,\n",
       "         2718425012, 2382305572, 2884979114, 1172808004,  974211890,\n",
       "          487512152,  761506475,  722017468,  422854191,  558639269,\n",
       "         3097408488, 3899920198, 3806651110, 2908252029, 2912168839,\n",
       "         3376557502, 1465673802, 1626214131, 3057785351, 2481025153,\n",
       "         1986898975,  568542967, 4253063094, 1460643091, 1041419893,\n",
       "         1563343676,  669217526, 2173355558, 3573479599, 3855721807,\n",
       "         1322059656, 1634551275, 1548679118, 2518385229, 1692258648,\n",
       "           44341072, 1775732132, 1624495807, 1174231252, 1635044335,\n",
       "         3698770091, 2792130647, 1988132982, 3535470207, 3095616846,\n",
       "         4198639125, 3397675895, 2666977499, 1384730643, 1096612764,\n",
       "           95826908, 1299594028,  451827890, 3698610910,  826223959,\n",
       "         1158521136, 1947938651, 2708853840, 2545317296, 1579574637,\n",
       "         1131021940, 2371665970,  536163975, 2254918964, 2605088518,\n",
       "         3498038358, 1016360730, 2706897025, 2541472753,  145569387,\n",
       "         3289757739, 4157137929,  154403136, 2471419687, 1170348189,\n",
       "         3699073081,  844000701, 3974720263, 3543299809, 2787230419,\n",
       "         4278143404, 1127700717, 3881595348,  238979387,  591142327,\n",
       "         2051957851, 2534185216,  748305545, 2622691872, 3310231077,\n",
       "         3081018930, 2594806072, 4209433572, 3284234190, 3381896935,\n",
       "         1351483394,  480582815, 1090480072, 3152921267,  143398263,\n",
       "         3434144234, 1164452018, 2641359841, 3023293417, 3194080606,\n",
       "         4239008041, 3300511703,  246514013, 3712739241, 3040539093,\n",
       "         2115495953, 3998032259, 1427609533,  619075032, 3442466961,\n",
       "          978153689, 1489225375,  509606674, 2499626697,  257454946,\n",
       "          116280904,  503580442, 1800557211,  902572914,  886292938,\n",
       "           22114428, 4223797475, 3859079039,  484344846, 1937071898,\n",
       "         2853819360, 2715977380, 1678786907, 1204272645, 2087297047,\n",
       "         1876506960, 2928781513, 4256058077, 1835462199, 2358625037,\n",
       "         3536050390, 2463359721,  186270061, 2775789902, 1839808125,\n",
       "         3661607356, 3453916413,  831436386, 3306095307, 1970786113,\n",
       "          838496795,  248797980, 2226702669,   33688418, 1003365395,\n",
       "         3844892234, 4027200141, 2187189512,  174237416, 1414380388,\n",
       "         1738955908, 2327058416, 3715099710, 1923285032, 3704661207,\n",
       "         3136012303, 3812753692, 2427391680,  310121791, 1625424285,\n",
       "           23892693, 3992519083,  862471450,   20640111, 3572395134,\n",
       "         2954380107, 1995280131,  919640033, 1808871045, 1728804709,\n",
       "          854679195,  478958101, 2755077949, 1285684210, 2691223853,\n",
       "          622291275,  504329223, 1892421459, 3965780824, 1861301484,\n",
       "         3261107071, 1160864130, 2029272261, 2719178978, 4191962453,\n",
       "         1821862708,  203570817, 1268553145,   71486295, 1881604974,\n",
       "         3848112919, 3048647560,   86712187, 2070176701,  787669613,\n",
       "         1826359115, 1346382834,  445526952, 1411259009,  158382615,\n",
       "          952598916, 2209372133, 1237718124, 1850067595, 2678275300,\n",
       "         2212574820,  937332309, 1933006168, 2236389549,  297848087,\n",
       "         1279824919,  101280210, 3023244204,  925213349, 2455831570,\n",
       "         2526398054, 2689512081, 1152657556,  852187160, 2263076458,\n",
       "         3515510010, 3256520267, 2504557699, 1589654919, 1256754269,\n",
       "         3590023434, 3858747641, 3236572281,  613450770, 1422616341,\n",
       "           33955905, 1708732353, 2254821883, 2344313687,  789806338,\n",
       "         1775905977, 4077772626, 3928748161, 2515292463, 3630917260,\n",
       "          906603425, 2840307829, 2762316246, 1213017542, 3109411140,\n",
       "          936217146, 2411591481,  786241601, 1233707597, 3086433281,\n",
       "         2786088369, 3021254285, 3602975305, 1977741254, 4293322859,\n",
       "         2863811759,  390202647, 1560161666, 1815835974, 1548580395,\n",
       "         3780730181, 2313665107, 3609208795, 1222047612,  931946662,\n",
       "          298255815, 3647279413, 3126330924,  180851052,  473327471,\n",
       "         2774038512, 3191604191,  831457815, 1959165451, 3888121675,\n",
       "         1340878004, 4064570032, 1565781722,  653903404,   61592729,\n",
       "         3102448775,   26364298,  189573710, 3094084503, 3952778140,\n",
       "         1070650743,  558685365, 3062748351, 3705966324, 2400889866,\n",
       "          530061025, 1403599534, 2095995572,  111328915, 1761720872,\n",
       "          326684962, 4066533918, 3487287066, 2175110536, 2866298586,\n",
       "         1890370109,   32969454, 2914650252, 1569872377], dtype=uint32), 559, 0, 0.0))"
      ]
     },
     "execution_count": 23,
     "metadata": {},
     "output_type": "execute_result"
    }
   ],
   "source": [
    "import numpy as np\n",
    "import scipy.stats as st\n",
    "import emcee\n",
    "\n",
    "def log_posterior(params, t, area):\n",
    "    if np.any(params < 0):\n",
    "        return -np.inf\n",
    "\n",
    "    k, N0, sigma = params\n",
    "    \n",
    "    # Prior\n",
    "    log_prior_k = st.norm.logpdf(k, 0.06, 0.03)\n",
    "    log_prior_N0 = st.norm.logpdf(N0, 1, 0.1)\n",
    "    log_prior_sigma = st.norm.logpdf(sigma, 0.3, 0.1)\n",
    "    \n",
    "    # Likelihood\n",
    "    log_like = np.sum(st.norm.logpdf(area, N0*np.exp(k*t), sigma))\n",
    "    \n",
    "    return log_prior_k + log_prior_N0 + log_prior_sigma + log_like\n",
    "\n",
    "n_chains = 20\n",
    "sampler = emcee.EnsembleSampler(n_chains, \n",
    "                                3, \n",
    "                                log_posterior, \n",
    "                                args=(dataframe['time(mins)'].values,\n",
    "                                      dataframe['area'].values))\n",
    "\n",
    "p0_k = np.random.normal(0.06, 0.005, n_chains)\n",
    "p0_N0 = np.random.normal(1, 0.01, n_chains)\n",
    "p0_sigma = np.random.normal(0.1, 0.01, n_chains)\n",
    "p0 = np.vstack((p0_k, p0_N0, p0_sigma)).T\n",
    "sampler.run_mcmc(p0, 2000)"
   ]
  },
  {
   "cell_type": "code",
   "execution_count": null,
   "metadata": {},
   "outputs": [],
   "source": []
  }
 ],
 "metadata": {
  "kernelspec": {
   "display_name": "Python 3",
   "language": "python",
   "name": "python3"
  },
  "language_info": {
   "codemirror_mode": {
    "name": "ipython",
    "version": 3
   },
   "file_extension": ".py",
   "mimetype": "text/x-python",
   "name": "python",
   "nbconvert_exporter": "python",
   "pygments_lexer": "ipython3",
   "version": "3.6.6"
  }
 },
 "nbformat": 4,
 "nbformat_minor": 2
}
