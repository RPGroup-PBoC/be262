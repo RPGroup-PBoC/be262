{
 "cells": [
  {
   "cell_type": "markdown",
   "metadata": {},
   "source": [
    "# Tutorial 0c: An introduction to Python syntax and plotting"
   ]
  },
  {
   "cell_type": "markdown",
   "metadata": {
    "collapsed": true
   },
   "source": [
    "© 2017 Griffin Chure. This work is licensed under a [Creative Commons Attribution License CC-BY 4.0](https://creativecommons.org/licenses/by/4.0/). All code contained herein is licensed under an [MIT license](https://opensource.org/licenses/MIT)  "
   ]
  },
  {
   "cell_type": "markdown",
   "metadata": {},
   "source": [
    "--- "
   ]
  },
  {
   "cell_type": "markdown",
   "metadata": {},
   "source": [
    "In this tutorial, we will learn some of the basics of programming in Python. While this will all become muscle memory, it's useful to keep this as a reference. To follow along with this tutorial, launch a Jupyter notebook [as described in tutorial 0b](t0b_jupyter_notebooks.html) and type along as we go into the code cells. "
   ]
  },
  {
   "cell_type": "markdown",
   "metadata": {},
   "source": [
    "## Basic shell commands"
   ]
  },
  {
   "cell_type": "markdown",
   "metadata": {},
   "source": [
    "In [tutorial 0a](t0a_setting_up_python.html) and [tutorial 0b](t0b_jupyter_notebooks.html), you learned how to launch an IPython interpreter from a terminal. Having knowledge of some basic UNIX command line skills, such as moving between directories, listing files in a given directory, and making new directories, is imperative to becoming a computational scientist. Please see [this wonderful tutorial by Justin Bois](http://justinbois.github.io/bootcamp/2016/lessons/l02_basic_command_line_skills.html) for a primer on using the command line. Briefly, you will only need to know three commands.\n",
    "\n",
    "\n",
    "1. `cd` - \"Change directories\". By typing this command, you will be able to move from where you currently are to another folder. You can do this by specifically typing a path, such as `cd /Users/gchure/bootcamp`. You can also move *relative* to where you currently are by using some shorthand notation. Typing `cd ../` will move you **up** one directory, `cd ../../` will move you up two directories, and `cd ~/` will move you to your home directory. \n",
    "\n",
    "2. `ls` - \"List files and directories\". Typing this command in your terminal will list all files and directories in your current working directory.\n",
    "\n",
    "3. `mkdir` - \"Make directory\". This is useful for making new directories on your computer without having to open Finder or Windows Explorer. For example, I can make a `data` folder in my `bi1` root directory by typing `mkdir data`. I could make another folder called `good_data` two directories up from my current folder by typing `mkdir ../../data`. \n",
    "\n",
    "With these three commands memorized, you should be able to navigate around your computer without leaving the terminal. "
   ]
  },
  {
   "cell_type": "markdown",
   "metadata": {},
   "source": [
    " "
   ]
  },
  {
   "cell_type": "markdown",
   "metadata": {},
   "source": [
    "## `Hello, world` "
   ]
  },
  {
   "cell_type": "markdown",
   "metadata": {},
   "source": [
    "As is typical when learning any programming language, we'll start by making our computer speak to us. We'll do this by using one of the [many standard functions in Python](https://docs.python.org/3/library/functions.html), the `print` function.  "
   ]
  },
  {
   "cell_type": "code",
   "execution_count": 1,
   "metadata": {},
   "outputs": [
    {
     "name": "stdout",
     "output_type": "stream",
     "text": [
      "Hello, world\n"
     ]
    }
   ],
   "source": [
    "print('Hello, world')"
   ]
  },
  {
   "cell_type": "markdown",
   "metadata": {},
   "source": [
    "In the above code, we called the `print` function and passed the text `Hello, world.` surrounded by single quotation marks `''`. The text was passed as an **argument** to the `print` **function** by placing it in the parentheses. The quotation marks determined the **type** of the argument to be text, known as a **string**. While we used single quotations in the above code, we could also use double quotations `\"\"`. These are exchangeable in Python.\n",
    "\n",
    "While our `'Hello, world.'` is a string, this function can also be used to print other types such as integers (**`int`**), decimals (**`float`**), and `True/False` (**`bool`**) by passing them as arguments to the `print` function. "
   ]
  },
  {
   "cell_type": "code",
   "execution_count": 2,
   "metadata": {},
   "outputs": [
    {
     "name": "stdout",
     "output_type": "stream",
     "text": [
      "10\n",
      "3.14159\n",
      "True\n"
     ]
    }
   ],
   "source": [
    "print(10)\n",
    "print(3.14159)\n",
    "print(True)"
   ]
  },
  {
   "cell_type": "markdown",
   "metadata": {},
   "source": [
    "In the above code, it would be nice to be able to add a **comment** about what the type of each variable is that we are printing, but we don't want this comment to be interpreted by Python. By adding a pound symbol (`#`) before a line of code, we can force Python to ignore it.  "
   ]
  },
  {
   "cell_type": "code",
   "execution_count": 3,
   "metadata": {},
   "outputs": [
    {
     "name": "stdout",
     "output_type": "stream",
     "text": [
      "10\n",
      "3.14159\n",
      "True\n"
     ]
    }
   ],
   "source": [
    "# Print an integer\n",
    "print(10)\n",
    "\n",
    "# Print a float\n",
    "print(3.14159)\n",
    "\n",
    "# Print a bool\n",
    "print(True)"
   ]
  },
  {
   "cell_type": "markdown",
   "metadata": {},
   "source": [
    "We see that we get the same result."
   ]
  },
  {
   "cell_type": "markdown",
   "metadata": {},
   "source": [
    "## Basic math "
   ]
  },
  {
   "cell_type": "markdown",
   "metadata": {},
   "source": [
    "###  Arithmetic"
   ]
  },
  {
   "cell_type": "markdown",
   "metadata": {},
   "source": [
    "The crux of scientific programming is the ability to perform mathematical operations. Python can do a variety of simple mathematical functions by default.  "
   ]
  },
  {
   "cell_type": "code",
   "execution_count": 4,
   "metadata": {},
   "outputs": [
    {
     "name": "stdout",
     "output_type": "stream",
     "text": [
      "2\n",
      "2.0\n",
      "2\n",
      "6\n"
     ]
    }
   ],
   "source": [
    "print(1 + 1) # this should be 2\n",
    "print(4 / 2) # this should be 2\n",
    "print(40 - 38) # this should be 2\n",
    "print(2^4) # this should be 16"
   ]
  },
  {
   "cell_type": "markdown",
   "metadata": {},
   "source": [
    "Everything looks good, but what happened at the end? In Python, you exponentiate terms using a double asterisk (`**`) and **not** a caret (`^`). The caret executes a bitwise operation which is completely different than exponentiation. "
   ]
  },
  {
   "cell_type": "code",
   "execution_count": 5,
   "metadata": {},
   "outputs": [
    {
     "name": "stdout",
     "output_type": "stream",
     "text": [
      "16\n"
     ]
    }
   ],
   "source": [
    "print(2**4) # this should be 16"
   ]
  },
  {
   "cell_type": "markdown",
   "metadata": {},
   "source": [
    "Note that the all mathematical operations other than addition (`+`) can only be done on ints, floats, or bool. The addition operator can be performed on strings too! Let's say we want to stitch together two components of a sequence together."
   ]
  },
  {
   "cell_type": "code",
   "execution_count": 6,
   "metadata": {},
   "outputs": [
    {
     "name": "stdout",
     "output_type": "stream",
     "text": [
      "AATAGGCGATAGtttgaggcgggggc\n"
     ]
    }
   ],
   "source": [
    "print('AATAGGCGATAG' + 'tttgaggcgggggc')"
   ]
  },
  {
   "cell_type": "markdown",
   "metadata": {},
   "source": [
    "While all of these operations are simple, we would like some way in which can store a number for further use. We can do this by assigning the output of an operation to a **variable**."
   ]
  },
  {
   "cell_type": "code",
   "execution_count": 7,
   "metadata": {},
   "outputs": [
    {
     "name": "stdout",
     "output_type": "stream",
     "text": [
      "AATAGGCGATAGtttgaggcgggggc\n"
     ]
    }
   ],
   "source": [
    "# Assign our sequences to variables.\n",
    "seq_1 = 'AATAGGCGATAG'\n",
    "seq_2 = 'tttgaggcgggggc'\n",
    "stitched_seq = seq_1 + seq_2\n",
    "print(stitched_seq)"
   ]
  },
  {
   "cell_type": "markdown",
   "metadata": {},
   "source": [
    "We can call **methods** on some data types in Python. For example, we can convert our stitched string into all upper or lower case using the `upper()` or `lower()` method. "
   ]
  },
  {
   "cell_type": "code",
   "execution_count": 8,
   "metadata": {},
   "outputs": [
    {
     "name": "stdout",
     "output_type": "stream",
     "text": [
      "AATAGGCGATAGTTTGAGGCGGGGGC\n",
      "aataggcgatagtttgaggcgggggc\n"
     ]
    }
   ],
   "source": [
    "# Convert the stitched sequences to all upper and all lower case.\n",
    "upper_seq = stitched_seq.upper()\n",
    "lower_seq = stitched_seq.lower()\n",
    "print(upper_seq)\n",
    "print(lower_seq)"
   ]
  },
  {
   "cell_type": "markdown",
   "metadata": {},
   "source": [
    "We can also count the occurrences of a given character in a string by using the `count()` method. "
   ]
  },
  {
   "cell_type": "code",
   "execution_count": 9,
   "metadata": {},
   "outputs": [
    {
     "name": "stdout",
     "output_type": "stream",
     "text": [
      "6\n",
      "5\n",
      "3\n",
      "12\n"
     ]
    }
   ],
   "source": [
    "# Count the number of the different bases in the stitched DNA sequence.\n",
    "num_A = upper_seq.count('A')\n",
    "num_T = upper_seq.count('T')\n",
    "num_C = upper_seq.count('C')\n",
    "num_G = upper_seq.count('G')\n",
    "\n",
    "# Print them to the screen for good measure.\n",
    "print(num_A)\n",
    "print(num_T)\n",
    "print(num_C)\n",
    "print(num_G)"
   ]
  },
  {
   "cell_type": "markdown",
   "metadata": {},
   "source": [
    "### Lists and tuples"
   ]
  },
  {
   "cell_type": "markdown",
   "metadata": {},
   "source": [
    "So far, we've learned about floats, ints, bools, and strings as well as how to assign them to variables. But what about when we want to work with a series of these kinds of values? There are a few ways in which we can do this $-$ **lists** (values within brackets `[]`), **tuples** (values within parenthesis `()`), and **arrays** (which we'll learn about in the next section)."
   ]
  },
  {
   "cell_type": "code",
   "execution_count": 10,
   "metadata": {
    "collapsed": true
   },
   "outputs": [],
   "source": [
    "# Generate some lists and arrays.\n",
    "example_list = [1, 2, 3]\n",
    "example_tuple = (1, 2, 3)\n",
    "list_of_lists = [[1, 2, 3]]\n",
    "tuple_of_lists = ([1, 2, 3], [200, 2], 1)\n",
    "mixed_type_list = [1, 2, 'phsyical', 'biology', 10.028]"
   ]
  },
  {
   "cell_type": "markdown",
   "metadata": {},
   "source": [
    "Note that lists and tuples can have mixed types. Once we have a list or a tuple, we can extract a single value or a range of values by **indexing**. "
   ]
  },
  {
   "cell_type": "code",
   "execution_count": 11,
   "metadata": {},
   "outputs": [
    {
     "name": "stdout",
     "output_type": "stream",
     "text": [
      "1\n",
      "3\n",
      "[1, 2]\n",
      "3\n"
     ]
    }
   ],
   "source": [
    "# Index some values.\n",
    "print(example_list[0])  # should be 1\n",
    "print(example_tuple[2])  # should be 3\n",
    "print(example_list[0:2]) # should be 1 and 2\n",
    "print(example_list[-1])  # This will give the last entry of the list "
   ]
  },
  {
   "cell_type": "markdown",
   "metadata": {},
   "source": [
    "To get the first value of the list, I started with zero. **In Python, indexing begins at `0`.** This is different than in other programming languages such as MATLAB which begins at `1`.\n",
    "\n",
    "So what exactly is the difference between tuples and lists? **Lists are mutable. Tuples are not**. This means once a value in a tuple is set in place, it can't be changed without redefining the tuple. Let's demonstrate this by trying to change the first value of our `example_list` and `example_tuple`."
   ]
  },
  {
   "cell_type": "code",
   "execution_count": 12,
   "metadata": {},
   "outputs": [
    {
     "name": "stdout",
     "output_type": "stream",
     "text": [
      "[1000, 2, 3]\n"
     ]
    },
    {
     "ename": "TypeError",
     "evalue": "'tuple' object does not support item assignment",
     "output_type": "error",
     "traceback": [
      "\u001b[0;31m---------------------------------------------------------------------------\u001b[0m",
      "\u001b[0;31mTypeError\u001b[0m                                 Traceback (most recent call last)",
      "\u001b[0;32m<ipython-input-12-f27808945c09>\u001b[0m in \u001b[0;36m<module>\u001b[0;34m()\u001b[0m\n\u001b[1;32m      2\u001b[0m \u001b[0mexample_list\u001b[0m\u001b[0;34m[\u001b[0m\u001b[0;36m0\u001b[0m\u001b[0;34m]\u001b[0m \u001b[0;34m=\u001b[0m \u001b[0;36m1000\u001b[0m\u001b[0;34m\u001b[0m\u001b[0m\n\u001b[1;32m      3\u001b[0m \u001b[0mprint\u001b[0m\u001b[0;34m(\u001b[0m\u001b[0mexample_list\u001b[0m\u001b[0;34m)\u001b[0m\u001b[0;34m\u001b[0m\u001b[0m\n\u001b[0;32m----> 4\u001b[0;31m \u001b[0mexample_tuple\u001b[0m\u001b[0;34m[\u001b[0m\u001b[0;36m0\u001b[0m\u001b[0;34m]\u001b[0m \u001b[0;34m=\u001b[0m \u001b[0;36m1000\u001b[0m\u001b[0;34m\u001b[0m\u001b[0m\n\u001b[0m\u001b[1;32m      5\u001b[0m \u001b[0mprint\u001b[0m\u001b[0;34m(\u001b[0m\u001b[0mexample_tuple\u001b[0m\u001b[0;34m)\u001b[0m\u001b[0;34m\u001b[0m\u001b[0m\n",
      "\u001b[0;31mTypeError\u001b[0m: 'tuple' object does not support item assignment"
     ]
    }
   ],
   "source": [
    "# Change the first entry to 1000 \n",
    "example_list[0] = 1000\n",
    "print(example_list)\n",
    "example_tuple[0] = 1000\n",
    "print(example_tuple)"
   ]
  },
  {
   "cell_type": "markdown",
   "metadata": {},
   "source": [
    "Python yelled at me and told me that I can't assign a current value in a tuple. This is a very important point. For example, if you want to have some process output a series of values you don't want to change, put them in a tuple. Otherwise, put them in a list or an array. \n",
    "\n",
    "Lists **are** mutable, but we have to be careful with performing arithmetic operations on them. For example, the operators `+`,`-`, `**`, and `/` will give you errors. However, the `*` operator will concatenate a list with itself."
   ]
  },
  {
   "cell_type": "code",
   "execution_count": 13,
   "metadata": {},
   "outputs": [
    {
     "name": "stdout",
     "output_type": "stream",
     "text": [
      "[2, 4, 6, 2, 4, 6]\n",
      "[2, 4, 6, 2, 4, 6, 2, 4, 6, 2, 4, 6, 2, 4, 6]\n"
     ]
    }
   ],
   "source": [
    "# Do list arithmetic.\n",
    "next_list = [2, 4, 6]\n",
    "print(next_list * 2)  # Should be [2, 4, 6, 2, 4, 6]\n",
    "print(next_list * 5)  # Should be the same list repeated five times."
   ]
  },
  {
   "cell_type": "markdown",
   "metadata": {},
   "source": [
    "So how do we do more complicated mathematical operations on a series of numbers? How can I multiply each element of an array by five? How do I take the exponential of each element? How do I perform a dot product between two series? To perform such tasks, we will have to import another Python module, [NumPy](http://www.numpy.org). "
   ]
  },
  {
   "cell_type": "markdown",
   "metadata": {},
   "source": [
    "## Importing modules and working with NumPy"
   ]
  },
  {
   "cell_type": "markdown",
   "metadata": {},
   "source": [
    "When you open a Python interpreter or run a script, you are only loading the 'standard' Python packages. This means that you are not loading everything you could possibly want, but only the packages you need to perform the task. To perform more elaborate computation in Python, we will need to import an external **module** called NumPy. "
   ]
  },
  {
   "cell_type": "code",
   "execution_count": 14,
   "metadata": {
    "collapsed": true
   },
   "outputs": [],
   "source": [
    "# Import the NumPy module and give it an alias\n",
    "import numpy as np"
   ]
  },
  {
   "cell_type": "markdown",
   "metadata": {},
   "source": [
    "Whenever you write a Python script, you should always import the modules you will need at the very beginning. That way, all of the required packages will be loaded and ready to go when you start loading them. \n",
    "\n",
    "Let's talk about the syntax of the above line. I told the Python interpreter that it should **import** the module called `numpy` and give it the **alias** of `np`. This means whenever I have to call a  Numpy associated function, I can do so by typing `np.function_name` instead of `numpy.function_name`. The alias can be whatever you would like it to be, but you should stick by the community standards so your code is clear to everyone who is trying to figure out what you are doing. \n",
    "\n",
    "Numpy is the premier numerical computing module for Python. With it, we have myriad functions for peforming numerical operations."
   ]
  },
  {
   "cell_type": "code",
   "execution_count": 15,
   "metadata": {},
   "outputs": [
    {
     "name": "stdout",
     "output_type": "stream",
     "text": [
      "0.367879441171\n",
      "0.841470984808\n",
      "-0.340127259962\n",
      "-2.44929359829e-16\n"
     ]
    }
   ],
   "source": [
    "# Demonstrate the power of numpy.\n",
    "print(np.exp(-1))\n",
    "print(np.sin(1))\n",
    "print(np.cos(2 * np.sin(5)))\n",
    "print(np.sin(2 * np.pi))"
   ]
  },
  {
   "cell_type": "markdown",
   "metadata": {},
   "source": [
    "With numpy comes a new data type called **numpy arrays**. These are series of values which are mutable (just like lists) which cannot have a mixed data type (unlike lists and tuples).  We can also perform mathematical operations on arrays."
   ]
  },
  {
   "cell_type": "code",
   "execution_count": 16,
   "metadata": {},
   "outputs": [
    {
     "name": "stdout",
     "output_type": "stream",
     "text": [
      "[2 4 6]\n",
      "[ 0.33333333  0.66666667  1.        ]\n",
      "[1 4 9]\n",
      "14\n"
     ]
    }
   ],
   "source": [
    "# Demonstrate the magic of numpy arrays\n",
    "my_array = np.array([1, 2, 3])\n",
    "\n",
    "#Basic arithmetic\n",
    "print(my_array * 2)  # Element-wise multiplication\n",
    "print(my_array / 3)  # Element-wise division\n",
    "print(my_array * my_array)  # Element-wise multiplication\n",
    "print(np.dot(my_array, my_array)) # Dot product of two arrays"
   ]
  },
  {
   "cell_type": "markdown",
   "metadata": {},
   "source": [
    "Numpy arrays are not limited to being one-dimensional. We can create n-dimensional numpy arrays with ease."
   ]
  },
  {
   "cell_type": "code",
   "execution_count": 17,
   "metadata": {},
   "outputs": [
    {
     "name": "stdout",
     "output_type": "stream",
     "text": [
      "[1 2 3 4]\n",
      "[[1 2 3 4]\n",
      " [5 6 7 8]]\n"
     ]
    }
   ],
   "source": [
    "# Create multi-dimensional arrays\n",
    "one_dimensional_array = np.array([1, 2, 3, 4])\n",
    "two_dimensional_array = np.array([[1, 2, 3, 4],\n",
    "                                  [5, 6, 7, 8]])  \n",
    "\n",
    "print(one_dimensional_array)\n",
    "print(two_dimensional_array)"
   ]
  },
  {
   "cell_type": "markdown",
   "metadata": {},
   "source": [
    "We can even make numpy make series of values for us! This will be very useful once we start manipulating images and making plots. "
   ]
  },
  {
   "cell_type": "code",
   "execution_count": 18,
   "metadata": {
    "collapsed": true
   },
   "outputs": [],
   "source": [
    "# Automatically generate series of values.\n",
    "linear_spaced = np.linspace(0, 10, 1000)  # Generates 1000 points between 0 and 10 \n",
    "log_spaced = np.logspace(-1, 1, 200) # Generates 200 points logarithmically spaced \n",
    "                                     # between .1 and 10\n",
    "aranged = np.arange(0, 50, 2)  # Generates values between 0 and 50 taking steps of \n",
    "                               # two."
   ]
  },
  {
   "cell_type": "markdown",
   "metadata": {},
   "source": [
    "It is impossible to perform scientific computing in Python without using numpy."
   ]
  },
  {
   "cell_type": "markdown",
   "metadata": {},
   "source": [
    "##  Checking type, length, and shape"
   ]
  },
  {
   "cell_type": "markdown",
   "metadata": {},
   "source": [
    "It's useful to be able to see some properties of variables we assign. Let's look back at the sequence strings we made earlier and extract some of their properties. "
   ]
  },
  {
   "cell_type": "code",
   "execution_count": 19,
   "metadata": {},
   "outputs": [
    {
     "name": "stdout",
     "output_type": "stream",
     "text": [
      "<class 'str'>\n",
      "<class 'float'>\n",
      "<class 'bool'>\n",
      "<class 'int'>\n",
      "<class 'list'>\n",
      "<class 'tuple'>\n",
      "<class 'numpy.ndarray'>\n"
     ]
    }
   ],
   "source": [
    "# Generate some variable with different types.\n",
    "string_type = 'AATGATTCG'\n",
    "float_type = 3.14159\n",
    "bool_type = True\n",
    "int_type = 3\n",
    "list_type = ['Escherichia coli', 'Salmonella enterica', 10]\n",
    "tuple_type = ('Geospiza fortis', 3)\n",
    "nparray_type = np.ones_like(tuple_type)\n",
    "\n",
    "# Print their types\n",
    "print(type(string_type))\n",
    "print(type(float_type))\n",
    "print(type(bool_type))\n",
    "print(type(int_type))\n",
    "print(type(list_type))\n",
    "print(type(tuple_type))\n",
    "print(type(nparray_type))"
   ]
  },
  {
   "cell_type": "markdown",
   "metadata": {},
   "source": [
    "Note that even though the elements of our `list_type` and `tuple_type` have mixed types, this command tells us what the type of the *object* is (i.e. `list` and `tuple`). We can force changes in the type of a variable with ease. To demonstrate, let's break up our stitched sequence into the individual basepairs. "
   ]
  },
  {
   "cell_type": "code",
   "execution_count": 20,
   "metadata": {
    "scrolled": true
   },
   "outputs": [
    {
     "name": "stdout",
     "output_type": "stream",
     "text": [
      "['A', 'A', 'T', 'A', 'G', 'G', 'C', 'G', 'A', 'T', 'A', 'G', 't', 't', 't', 'g', 'a', 'g', 'g', 'c', 'g', 'g', 'g', 'g', 'g', 'c']\n"
     ]
    }
   ],
   "source": [
    "# Change the type of a varible\n",
    "basepairs = list(stitched_seq)\n",
    "print(basepairs)"
   ]
  },
  {
   "cell_type": "markdown",
   "metadata": {},
   "source": [
    "We can  also convert numbers to strings. This is useful if we want to print a sentence including the output from some other operation. Let's check the length of our two DNA sequences and print it in a sentence."
   ]
  },
  {
   "cell_type": "code",
   "execution_count": 21,
   "metadata": {},
   "outputs": [
    {
     "name": "stdout",
     "output_type": "stream",
     "text": [
      "The length of our sequence is 26 bases\n"
     ]
    }
   ],
   "source": [
    "# Determine the lengths of the two sequences.\n",
    "seq_1_len = len(seq_1) \n",
    "seq_2_len = len(seq_2)\n",
    "print(\"The length of our sequence is \" + str(seq_1_len + seq_2_len) + ' bases')"
   ]
  },
  {
   "cell_type": "markdown",
   "metadata": {},
   "source": [
    "We've created *a lot* of variable so far in this tutorial. It's nice to be able to look at what variables exist in our environment as well as get some information. Let's take a look at everything we've made so far. "
   ]
  },
  {
   "cell_type": "code",
   "execution_count": 22,
   "metadata": {},
   "outputs": [
    {
     "name": "stdout",
     "output_type": "stream",
     "text": [
      "Variable                Type       Data/Info\n",
      "--------------------------------------------\n",
      "aranged                 ndarray    25: 25 elems, type `int64`, 200 bytes\n",
      "basepairs               list       n=26\n",
      "bool_type               bool       True\n",
      "example_list            list       n=3\n",
      "example_tuple           tuple      n=3\n",
      "float_type              float      3.14159\n",
      "int_type                int        3\n",
      "linear_spaced           ndarray    1000: 1000 elems, type `float64`, 8000 bytes\n",
      "list_of_lists           list       n=1\n",
      "list_type               list       n=3\n",
      "log_spaced              ndarray    200: 200 elems, type `float64`, 1600 bytes\n",
      "lower_seq               str        aataggcgatagtttgaggcgggggc\n",
      "mixed_type_list         list       n=5\n",
      "my_array                ndarray    3: 3 elems, type `int64`, 24 bytes\n",
      "next_list               list       n=3\n",
      "np                      module     <module 'numpy' from '/Us<...>kages/numpy/__init__.py'>\n",
      "nparray_type            ndarray    2: 2 elems, type `<U15`, 120 bytes\n",
      "num_A                   int        6\n",
      "num_C                   int        3\n",
      "num_G                   int        12\n",
      "num_T                   int        5\n",
      "one_dimensional_array   ndarray    4: 4 elems, type `int64`, 32 bytes\n",
      "seq_1                   str        AATAGGCGATAG\n",
      "seq_1_len               int        12\n",
      "seq_2                   str        tttgaggcgggggc\n",
      "seq_2_len               int        14\n",
      "stitched_seq            str        AATAGGCGATAGtttgaggcgggggc\n",
      "string_type             str        AATGATTCG\n",
      "tuple_of_lists          tuple      n=3\n",
      "tuple_type              tuple      n=2\n",
      "two_dimensional_array   ndarray    2x4: 8 elems, type `int64`, 64 bytes\n",
      "upper_seq               str        AATAGGCGATAGTTTGAGGCGGGGGC\n"
     ]
    }
   ],
   "source": [
    "whos"
   ]
  },
  {
   "cell_type": "markdown",
   "metadata": {},
   "source": [
    "We see that we get a relatively nicely ordered list of all of our variables, the type of the variable, and then information about their contents. We can see for our lists and arrays it tells us the number of rows and columns, how many elements there are, what the type of those elements are and so forth. "
   ]
  },
  {
   "cell_type": "markdown",
   "metadata": {},
   "source": [
    "##  Functions"
   ]
  },
  {
   "cell_type": "markdown",
   "metadata": {},
   "source": [
    "Functions are arguably the most important components of efficient and effective programming. Functions are sections of code that are written to take an argument, perform some manipulation, and return the manipulated argument. In Python, these functions can be written in the same script where you want to use them.\n",
    "\n",
    "In Python, spacing and indentation matters. When we define a function and perform looping, we have to be very aware of where our code exists in the script. Once you define a function, all operations that are to take place in that function should be indented from the rest of the code.  \n",
    "\n",
    "The best way to learn is by doing. Let's write a function to add two DNA sequences together and determine its [GC content](https://en.wikipedia.org/wiki/GC-content), the percentage of the DNA that is either guanine or cytosine."
   ]
  },
  {
   "cell_type": "code",
   "execution_count": 23,
   "metadata": {
    "collapsed": true
   },
   "outputs": [],
   "source": [
    "def compute_gc(seq_a, seq_b, print_seq=True):\n",
    "    \"\"\"\n",
    "    Stitches together two DNA sequences (seq_a and seq_b) into a single sequence\n",
    "    then computes the GC content. This is defined as the number of G's and C's in\n",
    "    the sequence divided by the total sequence length.\n",
    "    \"\"\"\n",
    "    \n",
    "    # Merge the sequences together.\n",
    "    merged_sequence = seq_a + seq_b\n",
    "    \n",
    "    # Determine if the new string should be printed. \n",
    "    if print_seq == True:\n",
    "        print(merged_sequence)\n",
    "        \n",
    "    # Make the merged string all upper-case.\n",
    "    merged_upper = merged_sequence.upper()\n",
    "    \n",
    "    # Count the number of G's and C's.\n",
    "    num_G = merged_upper.count('G')\n",
    "    num_C = merged_upper.count('C')\n",
    "    \n",
    "    # Compute the length of the sequence and the GC content.\n",
    "    seq_len = len(merged_upper)\n",
    "    gc_content = (num_G + num_C) / seq_len\n",
    "    \n",
    "    # Return the gc_content\n",
    "    return gc_content"
   ]
  },
  {
   "cell_type": "markdown",
   "metadata": {},
   "source": [
    "We did a lot of complicated procedures in this code, so let's go through it piece by piece.\n",
    "\n",
    "1. We **def**ined the function as `compute_gc` which takes the arguments `seq_a` and `seq_b` as well as a keyword argument `print_sequence` which has a default value of `True`.\n",
    "2. We wrote some information about the what the function does and what arguments it takes. The tripple quoation marks (`\"\"\"`) allows us to write strings that go over multiple lines in the code cell.\n",
    "3. We then performed the operation by adding together `seq_a` and `seq_b` and assigning it to a new variable called `merged_sequence`.\n",
    "4. We tested if the function should print the resut to the screen. We did this by using an `if` statement. This tested **`if`** `print_seq` was equal to `True`. If it that was the case, the `print` function was called and printed the value of `merged_sequence`.\n",
    "5. The GC content is computed and the function is told to **`return`** the value.\n",
    "\n",
    "Each line in this function was one-tab away from the definition statement of the function. Note that we were never specific about *what* the value of `seq_a` and what `seq_b` are. "
   ]
  },
  {
   "cell_type": "code",
   "execution_count": 24,
   "metadata": {},
   "outputs": [
    {
     "name": "stdout",
     "output_type": "stream",
     "text": [
      "aaaaTttt\n",
      "GgGgCcCC\n",
      "aaaaCcCC\n",
      "0.0 1.0 0.5\n"
     ]
    }
   ],
   "source": [
    "# Add some various values together.\n",
    "all_A = 'aaaa'\n",
    "all_T = 'Tttt'\n",
    "all_C = 'CcCC'\n",
    "all_G = 'GgGg'\n",
    "AT_only = compute_gc(all_A, all_T) \n",
    "GC_only = compute_gc(all_G, all_C)\n",
    "AC_only = compute_gc(all_A, all_C)  \n",
    "# Print the variables we assigned them to.\n",
    "print(AT_only, GC_only, AC_only)"
   ]
  },
  {
   "cell_type": "markdown",
   "metadata": {},
   "source": [
    "We should be pleased to see that `AT_only` has a GC content of 0, `GC_only` has a GC content of 1.0, and `AC_only` has a value of 0.5, as we predicted.\n",
    "Since we added the automatic printing of values as a **keyword argument**, we can easily tell our function to stop printing things.  "
   ]
  },
  {
   "cell_type": "code",
   "execution_count": 25,
   "metadata": {},
   "outputs": [
    {
     "name": "stdout",
     "output_type": "stream",
     "text": [
      "0.0 1.0 0.5\n"
     ]
    }
   ],
   "source": [
    "AT_only = compute_gc(all_A, all_T, print_seq=False) \n",
    "GC_only = compute_gc(all_G, all_C, print_seq=False)\n",
    "AC_only = compute_gc(all_A, all_C, print_seq=False)  \n",
    "# Print the variables we assigned them to.\n",
    "print(AT_only, GC_only, AC_only)"
   ]
  },
  {
   "cell_type": "markdown",
   "metadata": {},
   "source": [
    "Being able to write functions to automate tasks will be very valuable in the future $-$ especially when we start working with images. "
   ]
  },
  {
   "cell_type": "markdown",
   "metadata": {},
   "source": [
    "##  Our first `for` loop"
   ]
  },
  {
   "cell_type": "markdown",
   "metadata": {},
   "source": [
    "Rather than using \"boring\" simple operations to learn some syntax, let's learn about the `for` loop by using a biological example. \n",
    "\n",
    "Let's say that we have a cell sitting in a tube of growth medium. If we place this tube at the right temperature, the cells will grow exponentially. We can write down a very simple model that as long as the cells are well below the carrying capacity of their environment, they will grow as \n",
    "$$\n",
    "N(d) = 2^{d},\n",
    "$$\n",
    "\n",
    "where $N(d)$ is the number of cells at division $d$. To test this model, we'll write a very short simulation to test that the a cell would grow exponentially. \n",
    "\n",
    "Before we think of how the specific code should be written, let's write out what our thought process should be. \n",
    "\n",
    "1. We should first define the initial number of cells as well as the number of divisions to simulate.\n",
    "2. For each cell division, we should multiply the number of cells that we had in the last division event. \n",
    "3. After each division, we should keep track of how many cells there are.\n",
    "\n",
    "With this idea in place, let's go through the code."
   ]
  },
  {
   "cell_type": "code",
   "execution_count": 26,
   "metadata": {
    "collapsed": true
   },
   "outputs": [],
   "source": [
    "# Set the initial number of cells in the experiment.\n",
    "number_of_cells = 1\n",
    "\n",
    "# Set the number of division cycles for the experiment.\n",
    "number_of_divisions = 10\n",
    "\n",
    "# Set a list of number of cells at division d and start with 1 cell\n",
    "N_d = [number_of_cells]\n",
    "\n",
    "# Loop through each division event\n",
    "for i in range(number_of_divisions):\n",
    "    # Make the cells duplicate\n",
    "    number_of_cells = number_of_cells * 2 \n",
    "   \n",
    "    # Add the new number of cells to our storage list.\n",
    "    N_d.append(number_of_cells)\n"
   ]
  },
  {
   "cell_type": "markdown",
   "metadata": {},
   "source": [
    "We covered a lot of syntax in that cell, so let's take a look at it piece by piece.  \n",
    "\n",
    "* `number_of_cells = 1`: We assigned our starting number of cells to a variable.\n",
    "* `number_of_divisions = 10`: We assigned a value for the total number of divisions to a variable.\n",
    "* `N_d = [number_of_cells]`: We made a list where the first entry (our starting point) only has one cell.\n",
    "\n",
    "Now we enter the for loop, which exectues our simulation.\n",
    "\n",
    "* `for i in range(number_of_divisions)`: This starts the for loop. We are using the variable `i` as an iterator (basically a counter). Each time we go through the loop, `i` will take on the next value of the `range` function. The `range` function generates a list of integers starting from `0` to `number_of_divisions` which we set as 10.\n",
    "* `number_of_cells = number_of_cells * 2`: This performed the cell division, doubling the number of cells. We also reassigned the value of this variable. Through the next iteration of the loop, the number will double again.\n",
    "* `N_d.append(number_of_cells)`: This is using the `append` method of the `N_d` list to **add** the number of cells at each division to our list before we go on to the next round of the loop. \n",
    "\n",
    "Also notice that, just like in functions, the code is indented. Everything that is indented to the same level will execute within the loop. \n",
    "\n",
    "\n",
    "Let's take a look at our `N_d` list and see how the number of cells changed over time. "
   ]
  },
  {
   "cell_type": "code",
   "execution_count": 27,
   "metadata": {},
   "outputs": [
    {
     "name": "stdout",
     "output_type": "stream",
     "text": [
      "[1, 2, 4, 8, 16, 32, 64, 128, 256, 512, 1024]\n"
     ]
    }
   ],
   "source": [
    "# Print the result of our simulation.\n",
    "print(N_d)"
   ]
  },
  {
   "cell_type": "markdown",
   "metadata": {},
   "source": [
    "It looks like our function worked! But can we tell this is exponential growth? Because this is a simple case, we can see that the number of cells are doubling at each division. However, It would be very useful to plot these results. "
   ]
  },
  {
   "cell_type": "markdown",
   "metadata": {},
   "source": [
    "## Plotting using `matplotlib`"
   ]
  },
  {
   "cell_type": "markdown",
   "metadata": {},
   "source": [
    "There are many plotting utilities available for Python. Some notable examples include [Bokeh](http://bokeh.pydata.org/en/latest) for interactive plotting, [Seaborn](http://seaborn.pydata.org) and [Altair](https://altair-viz.github.io) for statistical visualization, and a Python port of the popular R programming language plotting utility [ggplot](https://github.com/yhat/ggplot). While interactive plotting is likely the visualization tool of the future, the most common (and full featured) plotting utility for Python as of this writing is [matplotlib](http://matplotlib.org). It was designed with the plotting syntax and style of MATLAB in mind and many of the commands are similiar. As is the case with numpy, matplotlib is not within the standard libray of Python and must be imported."
   ]
  },
  {
   "cell_type": "code",
   "execution_count": 28,
   "metadata": {
    "collapsed": true
   },
   "outputs": [],
   "source": [
    "# Load the plotting utility matplotlib with an alias plt.\n",
    "import matplotlib.pyplot as plt\n",
    "\n",
    "# The following line allows for plots to be rendered in this notebook. \n",
    "%matplotlib inline"
   ]
  },
  {
   "cell_type": "markdown",
   "metadata": {},
   "source": [
    "We would like to see if our simulated cells appear to grow exponentially with time. To do so, we would like to plot the number of cells we have at division number $d$ as a function of $d$. Before we do any plotting, let's generate a vector of division times that matches the size of our `N_d` vector. We can do this using some of the arrangement methods that we used earlier with numpy. Since we had a measure at $d=0$, our new division vector must have a length of `number_of_divisions` + 1. "
   ]
  },
  {
   "cell_type": "code",
   "execution_count": 29,
   "metadata": {
    "collapsed": true
   },
   "outputs": [],
   "source": [
    "# Establish a vector of the division cycles\n",
    "division_vector = np.arange(0, number_of_divisions + 1, 1)"
   ]
  },
  {
   "cell_type": "markdown",
   "metadata": {},
   "source": [
    "Now all that is left is to plot it! We can use the `plot` function of matplotlib to generate our scatterplot. We'll choose small circles as our markers and provide the approriate $x$ and $y$ labels as we always should. We'll also add a legend to our plot to show that these data poitns are from a simulation. "
   ]
  },
  {
   "cell_type": "code",
   "execution_count": 30,
   "metadata": {},
   "outputs": [
    {
     "data": {
      "text/plain": [
       "<matplotlib.legend.Legend at 0x117fd3c88>"
      ]
     },
     "execution_count": 30,
     "metadata": {},
     "output_type": "execute_result"
    },
    {
     "data": {
      "image/png": "[encoded data removed]",
      "text/plain": [
       "<matplotlib.figure.Figure at 0x117fd3c18>"
      ]
     },
     "metadata": {},
     "output_type": "display_data"
    }
   ],
   "source": [
    "# Generate the plot.\n",
    "plt.plot(division_vector, N_d, 'o', label='simulation')\n",
    "\n",
    "# Set the axis labels.\n",
    "plt.xlabel('number of divisions')\n",
    "plt.ylabel('number of cells')\n",
    "\n",
    "# Add a legend\n",
    "plt.legend()"
   ]
  },
  {
   "cell_type": "markdown",
   "metadata": {},
   "source": [
    "In calling the `plt.plot()` function, we first passed it the $x$ and $y$ data, told it to plot the points as circles (through the `'o'` argument), and finally gave it a label. \n",
    "\n",
    "To me, this plot is pretty ugly. Every aspect of this plot can be stylized to your liking, althought it will take a little bit of work. However, we can import the `seaborn` plotting utility which will stylize all of our plots and make them much clearer to interpret."
   ]
  },
  {
   "cell_type": "code",
   "execution_count": 35,
   "metadata": {
    "collapsed": true
   },
   "outputs": [],
   "source": [
    "import seaborn as sns\n",
    "sns.set()"
   ]
  },
  {
   "cell_type": "markdown",
   "metadata": {},
   "source": [
    " With this imported, let's go ahead and remake the plot from above. We'll also save it using the `plt.savefig` function."
   ]
  },
  {
   "cell_type": "code",
   "execution_count": 36,
   "metadata": {},
   "outputs": [
    {
     "data": {
      "image/png": "[encoded data removed]",
      "text/plain": [
       "<matplotlib.figure.Figure at 0x11f8b1240>"
      ]
     },
     "metadata": {},
     "output_type": "display_data"
    }
   ],
   "source": [
    "# Generate the plot.\n",
    "plt.plot(division_vector, N_d, 'o', label='simulation')\n",
    "\n",
    "# Set the axis labels.\n",
    "plt.xlabel('number of divisions')\n",
    "plt.ylabel('number of cells')\n",
    "\n",
    "# Add a legend\n",
    "plt.legend()\n",
    "plt.savefig('growth_simulation.pdf')"
   ]
  },
  {
   "cell_type": "markdown",
   "metadata": {},
   "source": [
    "That's much better! "
   ]
  },
  {
   "cell_type": "markdown",
   "metadata": {},
   "source": [
    "##  Asking for help"
   ]
  },
  {
   "cell_type": "markdown",
   "metadata": {},
   "source": [
    "While we have covered a lot of Python syntax, I don't expect you will have all of it memorized! Every module (nearly) that you will use has a well constructed **documentation** that explains how functions should be used. Some great examples of this are the documentation pages for [NumPy and SciPy](https://docs.scipy.org/doc/numpy/), [seaborn](http://seaborn.pydata.org/), and [scikit-image](http://scikit-image.org/).\n",
    "\n",
    "\n",
    "When you are typing away in the notebook or in an IPython terminal, you can pull up the documentation information for any function or attribute by typing the name followed by a question mark (`?`). For example (assuming you have `numpy` imported as `np`, you can get the documentation for the `np.random` module by typing the following."
   ]
  },
  {
   "cell_type": "code",
   "execution_count": 37,
   "metadata": {
    "collapsed": true
   },
   "outputs": [],
   "source": [
    "np.random?"
   ]
  },
  {
   "cell_type": "markdown",
   "metadata": {},
   "source": [
    "## In conclusion... "
   ]
  },
  {
   "cell_type": "markdown",
   "metadata": {},
   "source": [
    "In this tutorial, we worked through some of the basic syntax of the Python language, learned some crucial programming skills, and even generated a plot of cell growth over time. Through the rest of this course, you will build upon these skills and learn even more interesting and useful tidbits of programming. "
   ]
  }
 ],
 "metadata": {
  "anaconda-cloud": {},
  "kernelspec": {
   "display_name": "Python 3",
   "language": "python",
   "name": "python3"
  },
  "language_info": {
   "codemirror_mode": {
    "name": "ipython",
    "version": 3
   },
   "file_extension": ".py",
   "mimetype": "text/x-python",
   "name": "python",
   "nbconvert_exporter": "python",
   "pygments_lexer": "ipython3",
   "version": "3.6.2"
  }
 },
 "nbformat": 4,
 "nbformat_minor": 1
}
