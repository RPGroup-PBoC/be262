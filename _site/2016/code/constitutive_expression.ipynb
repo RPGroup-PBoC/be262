{
 "cells": [
  {
   "cell_type": "markdown",
   "metadata": {},
   "source": [
    "# Constitutive gene expression"
   ]
  },
  {
   "cell_type": "markdown",
   "metadata": {},
   "source": [
    "This exercise was generated from a Jupyter notebook. You can download the notebook [here](constitutive_expression.ipynb)."
   ]
  },
  {
   "cell_type": "markdown",
   "metadata": {},
   "source": [
    "In this tutorial we will numerically solve the ordinary differential equation describing the dynamics of mRNA counts in the cell, namely,\n",
    "\n",
    "\\begin{align}\n",
    "\\frac{\\mathrm{d} m}{\\mathrm{dt}} = r - \\gamma m.\n",
    "\\end{align}\n",
    "\n",
    "This equation tells that there are two factors affecting the mRNA levels in the cell - rate of consitutive gene expression ($r$) and the rate of mRNA degradation ($\\gamma$).\n",
    "\n",
    "To solve this equation numerically, we will break down the time axis into discrete parts with resolution $\\Delta t$, and will use an update equation to find the mRNA counts at the next moment in time, given the current mRNA count, namely,\n",
    "\n",
    "\\begin{align}\n",
    "m(t+\\Delta t) = m(t) + r \\, \\Delta t - \\gamma \\, \\Delta t \\, m(t).\n",
    "\\end{align}"
   ]
  },
  {
   "cell_type": "code",
   "execution_count": 2,
   "metadata": {
    "collapsed": true
   },
   "outputs": [],
   "source": [
    "# Import modules\n",
    "import numpy as np\n",
    "import matplotlib.pyplot as plt\n",
    "%matplotlib inline\n",
    "\n",
    "# For pretty plots\n",
    "import seaborn as sns\n",
    "sns.set()"
   ]
  },
  {
   "cell_type": "markdown",
   "metadata": {},
   "source": [
    "For the numerical estimation we will specify values of $r$, $\\Delta t$ and $\\gamma$. Also, since the differential equation is of the first order, we also specify the initial condition, i.e. the initial number of mRNAs."
   ]
  },
  {
   "cell_type": "code",
   "execution_count": 7,
   "metadata": {},
   "outputs": [
    {
     "data": {
      "image/png": "[encoded data removed]",
      "text/plain": [
       "<matplotlib.figure.Figure at 0x10ef64fd0>"
      ]
     },
     "metadata": {},
     "output_type": "display_data"
    }
   ],
   "source": [
    "# Time increment in minutes\n",
    "dt = 0.2\n",
    "\n",
    "# mRNA production rate in min^-1\n",
    "r = 1\n",
    "\n",
    "# mRNA degradation rate in min^-1\n",
    "gamma = 1/5\n",
    "\n",
    "# Number of time steps\n",
    "n_steps = 100\n",
    "\n",
    "# Time points\n",
    "times = np.arange(n_steps) * dt\n",
    "\n",
    "# Different initial expected mRNA counts\n",
    "mRNA_initial = [1, 5, 10]\n",
    "\n",
    "for i in range(3):\n",
    "    \n",
    "    # mRNA count\n",
    "    mRNA = np.zeros(n_steps)\n",
    "    \n",
    "    # Initialization\n",
    "    mRNA[0] = mRNA_initial[i]\n",
    "    \n",
    "    for t in range(n_steps-1):\n",
    "        mRNA[t+1] = mRNA[t] + r*dt - gamma*dt*mRNA[t]\n",
    "        \n",
    "    plt.plot(times, mRNA, label = 'Initial mRNA count: ' + str(mRNA_initial[i]))\n",
    "\n",
    "plt.xlabel('Time (min)')\n",
    "plt.ylabel('mRNA count')\n",
    "plt.legend();"
   ]
  },
  {
   "cell_type": "markdown",
   "metadata": {},
   "source": [
    "As we can see, regardless of our initial choice of the mRNA count, it converges to its steady state value of $r/\\gamma$ in a timescale determied by the degradation rate ($t_{\\mathrm{converge}} \\sim 1/\\gamma$)."
   ]
  }
 ],
 "metadata": {
  "kernelspec": {
   "display_name": "Python 3",
   "language": "python",
   "name": "python3"
  },
  "language_info": {
   "codemirror_mode": {
    "name": "ipython",
    "version": 3
   },
   "file_extension": ".py",
   "mimetype": "text/x-python",
   "name": "python",
   "nbconvert_exporter": "python",
   "pygments_lexer": "ipython3",
   "version": "3.6.2"
  }
 },
 "nbformat": 4,
 "nbformat_minor": 2
}
