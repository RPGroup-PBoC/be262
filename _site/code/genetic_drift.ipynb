{
 "cells": [
  {
   "cell_type": "markdown",
   "metadata": {},
   "source": [
    "© 2018 Suzy Beeler. This work is licensed under a [Creative Commons Attribution License CC-BY 4.0](https://creativecommons.org/licenses/by/4.0/). All code contained herein is licensed under an [MIT license](https://opensource.org/licenses/MIT) \n",
    "\n",
    "This exercise was generated from a Jupyter notebook. You can download the notebook [here](genetic_drift.ipynb).\n",
    "___\n",
    "\n",
    "# Objective \n",
    "\n",
    "Here we will simulate the famous Buri experiment, where we will track the allele frequencies of small populations over time. This tutorial illustrates the role that genetic drift plays in evolution **in the absence of selection**."
   ]
  },
  {
   "cell_type": "code",
   "execution_count": 3,
   "metadata": {},
   "outputs": [],
   "source": [
    "# Import the necessary modules\n",
    "import numpy as np\n",
    "import matplotlib.pyplot as plt\n",
    "\n",
    "# For pretty plots\n",
    "import seaborn as sns\n",
    "rc={'lines.linewidth': 2, 'axes.labelsize': 14, 'axes.titlesize': 14, \\\n",
    "    'xtick.labelsize' : 14, 'ytick.labelsize' : 14}\n",
    "sns.set(rc=rc)"
   ]
  },
  {
   "cell_type": "markdown",
   "metadata": {},
   "source": [
    "# Buri experiment, bag of alleles treatment"
   ]
  },
  {
   "cell_type": "code",
   "execution_count": 8,
   "metadata": {},
   "outputs": [],
   "source": [
    "# number of vials \n",
    "n_vials = 10000\n",
    "\n",
    "# number of flies in each vial\n",
    "n_flies = 16"
   ]
  },
  {
   "cell_type": "code",
   "execution_count": 9,
   "metadata": {},
   "outputs": [],
   "source": [
    "# array to store time to fixation\n",
    "time_to_fix1 = np.zeros(n_vials)\n",
    "\n",
    "# loop through number of vials\n",
    "for v in range(n_vials):\n",
    "    \n",
    "    # start generation counter\n",
    "    gen_count = 0\n",
    "    \n",
    "    # initial red frequency\n",
    "    old_red_freq = 0.5\n",
    "    \n",
    "    # loop until fixation\n",
    "    while True:\n",
    "        \n",
    "        # simulate mating for the next generation\n",
    "        # 0 is white allele, 1 is red allele \n",
    "        new_alleles = np.random.choice([0,1], size=n_flies*2, \n",
    "                                       p=[1-old_red_freq, old_red_freq])\n",
    "        \n",
    "        # calculate new red allele frequence\n",
    "        new_red_freq = sum(new_alleles) / len(new_alleles)\n",
    "        \n",
    "        # see if fixation has occurred\n",
    "        if (new_red_freq == 0) or (new_red_freq == 1):\n",
    "            time_to_fix1[v] = gen_count\n",
    "            break # exit loop\n",
    "            \n",
    "        # update generation count\n",
    "        gen_count += 1\n",
    "        \n",
    "        # update red frequency\n",
    "        old_red_freq = new_red_freq"
   ]
  },
  {
   "cell_type": "code",
   "execution_count": 24,
   "metadata": {},
   "outputs": [
    {
     "data": {
      "text/plain": [
       "Text(0,0.5,'frequency')"
      ]
     },
     "execution_count": 24,
     "metadata": {},
     "output_type": "execute_result"
    },
    {
     "data": {
      "image/png": "[encoded data removed]",
      "text/plain": [
       "<Figure size 432x288 with 1 Axes>"
      ]
     },
     "metadata": {},
     "output_type": "display_data"
    }
   ],
   "source": [
    "plt.hist(time_to_fix1, bins=50);\n",
    "plt.xlabel(\"time to fixation (generations)\")\n",
    "plt.ylabel(\"frequency\")"
   ]
  },
  {
   "cell_type": "markdown",
   "metadata": {},
   "source": [
    "# Buri experiment, 16 flies treatment\n",
    "\n",
    "This version prevents two alleles from being drawn from the same fly for the next generation."
   ]
  },
  {
   "cell_type": "code",
   "execution_count": 13,
   "metadata": {},
   "outputs": [],
   "source": [
    "def next_gen(vial):\n",
    "    \"\"\"\n",
    "    Given a vial (an array of sixteen flies that are [0,0], [0,1], or [0,1]),\n",
    "    produces a new vial of 16 flies. \n",
    "    \"\"\"\n",
    " \n",
    "    # new vial to populate\n",
    "    new_vial = []\n",
    "\n",
    "    # loop through the 16 new flies to be made\n",
    "    for i in range(len(vial)):\n",
    "        \n",
    "        # pick two flies to mate from vial. NO replacement allowed\n",
    "        flies_to_mate = np.random.choice(np.arange(len(vial)), size=2, replace=False)\n",
    "        \n",
    "        # new genotype to be specified\n",
    "        new_genotype = []\n",
    "\n",
    "        # from each fly, grab one allele and add to new genotype\n",
    "        for fly in flies_to_mate:\n",
    "            allele = np.random.choice(vial[fly])\n",
    "            new_genotype.append(allele)\n",
    "\n",
    "        # add new genotype to new vial\n",
    "        new_vial.append(new_genotype)\n",
    "    \n",
    "    return np.array(new_vial)"
   ]
  },
  {
   "cell_type": "code",
   "execution_count": 15,
   "metadata": {},
   "outputs": [],
   "source": [
    "# array to store time to fixation\n",
    "time_to_fix2 = np.zeros(n_vials)\n",
    "\n",
    "# loop through number of vials\n",
    "for v in range(n_vials):\n",
    "    \n",
    "    # what a vial looks like to start \n",
    "    # HARDCODED for 16 flies\n",
    "    vial = np.array([[0,1],[0,1],[0,1],[0,1],[0,1],[0,1],[0,1],[0,1],\n",
    "                     [0,1],[0,1],[0,1],[0,1],[0,1],[0,1],[0,1],[0,1]])\n",
    "    \n",
    "    # start generation count\n",
    "    gen_count = 0\n",
    "    \n",
    "    # loop  through number of generations\n",
    "    while True:\n",
    "        \n",
    "        # simulate mating\n",
    "        new_vial = next_gen(vial)\n",
    "        \n",
    "        # compute new red allele frequency\n",
    "        new_red_freq = np.sum(new_vial.flatten()) / (2*n_flies)\n",
    "        \n",
    "        # see if fixation has occurred\n",
    "        if (new_red_freq == 0) or (new_red_freq == 1):\n",
    "            time_to_fix2[v] = gen_count\n",
    "            break # exit loop\n",
    "            \n",
    "        # update generation count\n",
    "        gen_count += 1\n",
    "            \n",
    "        # update vial\n",
    "        vial = new_vial"
   ]
  },
  {
   "cell_type": "code",
   "execution_count": 16,
   "metadata": {},
   "outputs": [
    {
     "data": {
      "text/plain": [
       "Text(0,0.5,'frequency')"
      ]
     },
     "execution_count": 16,
     "metadata": {},
     "output_type": "execute_result"
    },
    {
     "data": {
      "image/png": "[encoded data removed]",
      "text/plain": [
       "<Figure size 432x288 with 1 Axes>"
      ]
     },
     "metadata": {},
     "output_type": "display_data"
    }
   ],
   "source": [
    "plt.hist(time_to_fix2, bins=50);\n",
    "plt.xlabel(\"time to fixation (generations)\")\n",
    "plt.ylabel(\"frequency\")"
   ]
  },
  {
   "cell_type": "markdown",
   "metadata": {},
   "source": [
    "# Compare the two approaches"
   ]
  },
  {
   "cell_type": "code",
   "execution_count": 25,
   "metadata": {},
   "outputs": [
    {
     "data": {
      "text/plain": [
       "<matplotlib.legend.Legend at 0x1a23644dd8>"
      ]
     },
     "execution_count": 25,
     "metadata": {},
     "output_type": "execute_result"
    },
    {
     "data": {
      "image/png": "[encoded data removed]",
      "text/plain": [
       "<Figure size 432x288 with 1 Axes>"
      ]
     },
     "metadata": {},
     "output_type": "display_data"
    }
   ],
   "source": [
    "# sort the final times to fixation\n",
    "sorted1 = np.sort(time_to_fix1)\n",
    "sorted2 = np.sort(time_to_fix2)\n",
    "\n",
    "# make the corresponding y_values for ECDF\n",
    "y_values = np.linspace(start=0, stop=1, num=n_vials)\n",
    "\n",
    "# plot\n",
    "plt.plot(sorted1, y_values)\n",
    "plt.plot(sorted2, y_values)\n",
    "plt.legend([\"bag of alleles\",\"proper treatment\"])"
   ]
  },
  {
   "cell_type": "markdown",
   "metadata": {},
   "source": [
    "They don't look too different, but let's zoom in:"
   ]
  },
  {
   "cell_type": "code",
   "execution_count": 26,
   "metadata": {},
   "outputs": [
    {
     "data": {
      "text/plain": [
       "(0, 100)"
      ]
     },
     "execution_count": 26,
     "metadata": {},
     "output_type": "execute_result"
    },
    {
     "data": {
      "image/png": "[encoded data removed]",
      "text/plain": [
       "<Figure size 432x288 with 1 Axes>"
      ]
     },
     "metadata": {},
     "output_type": "display_data"
    }
   ],
   "source": [
    "# plot\n",
    "plt.plot(sorted1, y_values)\n",
    "plt.plot(sorted2, y_values)\n",
    "plt.legend([\"bag of alleles\",\"proper treatment\"])\n",
    "plt.xlim([0,100])"
   ]
  },
  {
   "cell_type": "markdown",
   "metadata": {},
   "source": [
    "If anything, the \"bag of alleles\" treatment fixes earlier on average, but the effect is slight:"
   ]
  },
  {
   "cell_type": "code",
   "execution_count": 38,
   "metadata": {},
   "outputs": [
    {
     "name": "stdout",
     "output_type": "stream",
     "text": [
      "Bag of alleles mean time to fixation: 41.4857 generations\n",
      "Proper treatment mean time to fixation: 43.2232 generations\n",
      "\n",
      "Bag of alleles median time to fixation: 32.0 generations\n",
      "Proper treatment median time to fixation: 34.0 generations\n"
     ]
    }
   ],
   "source": [
    "print(\"Bag of alleles mean time to fixation:\", np.mean(sorted1), \"generations\")\n",
    "print(\"Proper treatment mean time to fixation:\", np.mean(sorted2), \"generations\")\n",
    "print()\n",
    "print(\"Bag of alleles median time to fixation:\", np.median(sorted1), \"generations\")\n",
    "print(\"Proper treatment median time to fixation:\", np.median(sorted2), \"generations\")"
   ]
  }
 ],
 "metadata": {
  "kernelspec": {
   "display_name": "Python 3",
   "language": "python",
   "name": "python3"
  },
  "language_info": {
   "codemirror_mode": {
    "name": "ipython",
    "version": 3
   },
   "file_extension": ".py",
   "mimetype": "text/x-python",
   "name": "python",
   "nbconvert_exporter": "python",
   "pygments_lexer": "ipython3",
   "version": "3.6.6"
  }
 },
 "nbformat": 4,
 "nbformat_minor": 2
}
